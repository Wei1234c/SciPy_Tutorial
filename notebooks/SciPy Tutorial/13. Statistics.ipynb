{
 "cells": [
  {
   "cell_type": "markdown",
   "metadata": {},
   "source": [
    "# 13. Statistics\n",
    "https://docs.scipy.org/doc/scipy/reference/tutorial/index.html  \n",
    "https://docs.scipy.org/doc/scipy/reference/tutorial/stats.html"
   ]
  },
  {
   "cell_type": "code",
   "execution_count": 7,
   "metadata": {
    "collapsed": false
   },
   "outputs": [
    {
     "name": "stdout",
     "output_type": "stream",
     "text": [
      "Populating the interactive namespace from numpy and matplotlib\n"
     ]
    }
   ],
   "source": [
    "%pylab inline"
   ]
  },
  {
   "cell_type": "markdown",
   "metadata": {
    "collapsed": true
   },
   "source": [
    "## Introduction\n",
    "In this tutorial we discuss many, but certainly not all, features of scipy.stats. The intention here is to provide a user with a working knowledge of this package. We refer to the reference manual for further details.\n",
    "\n",
    "Note: This documentation is work in progress.\n",
    "\n",
    "## Random Variables\n",
    "There are two general distribution classes that have been implemented for encapsulating continuous random variables and discrete random variables . Over 80 continuous ***random variables (RVs)*** and 10 discrete random variables have been implemented using these classes. Besides this, new routines and distributions can easily added by the end user. (If you create one, please contribute it).\n",
    "\n",
    "All of the statistics functions are located in the sub-package ***scipy.stats*** and a fairly complete listing of these functions can be obtained using ***info(stats)***. The list of the random variables available can also be obtained from the docstring for the stats sub-package.\n",
    "\n",
    "In the discussion below we mostly focus on ***continuous RVs***. Nearly all applies to discrete variables also, but we point out some differences here: Specific Points for Discrete Distributions.\n",
    "\n",
    "In the code samples below we assume that the scipy.stats package is imported as\n",
    "> from scipy import stats\n",
    "\n",
    "and in some cases we assume that individual objects are imported as\n",
    "> from scipy.stats import norm"
   ]
  },
  {
   "cell_type": "code",
   "execution_count": 11,
   "metadata": {
    "collapsed": false
   },
   "outputs": [
    {
     "name": "stdout",
     "output_type": "stream",
     "text": [
      "==========================================\n",
      "Statistical functions (:mod:`scipy.stats`)\n",
      "==========================================\n",
      "\n",
      ".. module:: scipy.stats\n",
      "\n",
      "This module contains a large number of probability distributions as\n",
      "well as a growing library of statistical functions.\n",
      "\n",
      "Each univariate distribution is an instance of a subclass of `rv_continuous`\n",
      "(`rv_discrete` for discrete distributions):\n",
      "\n",
      ".. autosummary::\n",
      "   :toctree: generated/\n",
      "\n",
      "   rv_continuous\n",
      "   rv_discrete\n",
      "\n",
      "Continuous distributions\n",
      "========================\n",
      "\n",
      ".. autosummary::\n",
      "   :toctree: generated/\n",
      "\n",
      "   alpha             -- Alpha\n",
      "   anglit            -- Anglit\n",
      "   arcsine           -- Arcsine\n",
      "   beta              -- Beta\n",
      "   betaprime         -- Beta Prime\n",
      "   bradford          -- Bradford\n",
      "   burr              -- Burr (Type III)\n",
      "   burr12            -- Burr (Type XII)\n",
      "   cauchy            -- Cauchy\n",
      "   chi               -- Chi\n",
      "   chi2              -- Chi-squared\n",
      "   cosine            -- Cosine\n",
      "   dgamma            -- Double Gamma\n",
      "   dweibull          -- Double Weibull\n",
      "   erlang            -- Erlang\n",
      "   expon             -- Exponential\n",
      "   exponnorm         -- Exponentially Modified Normal\n",
      "   exponweib         -- Exponentiated Weibull\n",
      "   exponpow          -- Exponential Power\n",
      "   f                 -- F (Snecdor F)\n",
      "   fatiguelife       -- Fatigue Life (Birnbaum-Saunders)\n",
      "   fisk              -- Fisk\n",
      "   foldcauchy        -- Folded Cauchy\n",
      "   foldnorm          -- Folded Normal\n",
      "   frechet_r         -- Frechet Right Sided, Extreme Value Type II (Extreme LB) or weibull_min\n",
      "   frechet_l         -- Frechet Left Sided, Weibull_max\n",
      "   genlogistic       -- Generalized Logistic\n",
      "   gennorm           -- Generalized normal\n",
      "   genpareto         -- Generalized Pareto\n",
      "   genexpon          -- Generalized Exponential\n",
      "   genextreme        -- Generalized Extreme Value\n",
      "   gausshyper        -- Gauss Hypergeometric\n",
      "   gamma             -- Gamma\n",
      "   gengamma          -- Generalized gamma\n",
      "   genhalflogistic   -- Generalized Half Logistic\n",
      "   gilbrat           -- Gilbrat\n",
      "   gompertz          -- Gompertz (Truncated Gumbel)\n",
      "   gumbel_r          -- Right Sided Gumbel, Log-Weibull, Fisher-Tippett, Extreme Value Type I\n",
      "   gumbel_l          -- Left Sided Gumbel, etc.\n",
      "   halfcauchy        -- Half Cauchy\n",
      "   halflogistic      -- Half Logistic\n",
      "   halfnorm          -- Half Normal\n",
      "   halfgennorm       -- Generalized Half Normal\n",
      "   hypsecant         -- Hyperbolic Secant\n",
      "   invgamma          -- Inverse Gamma\n",
      "   invgauss          -- Inverse Gaussian\n",
      "   invweibull        -- Inverse Weibull\n",
      "   johnsonsb         -- Johnson SB\n",
      "   johnsonsu         -- Johnson SU\n",
      "   kappa4            -- Kappa 4 parameter\n",
      "   kappa3            -- Kappa 3 parameter\n",
      "   ksone             -- Kolmogorov-Smirnov one-sided (no stats)\n",
      "   kstwobign         -- Kolmogorov-Smirnov two-sided test for Large N (no stats)\n",
      "   laplace           -- Laplace\n",
      "   levy              -- Levy\n",
      "   levy_l\n",
      "   levy_stable\n",
      "   logistic          -- Logistic\n",
      "   loggamma          -- Log-Gamma\n",
      "   loglaplace        -- Log-Laplace (Log Double Exponential)\n",
      "   lognorm           -- Log-Normal\n",
      "   lomax             -- Lomax (Pareto of the second kind)\n",
      "   maxwell           -- Maxwell\n",
      "   mielke            -- Mielke's Beta-Kappa\n",
      "   nakagami          -- Nakagami\n",
      "   ncx2              -- Non-central chi-squared\n",
      "   ncf               -- Non-central F\n",
      "   nct               -- Non-central Student's T\n",
      "   norm              -- Normal (Gaussian)\n",
      "   pareto            -- Pareto\n",
      "   pearson3          -- Pearson type III\n",
      "   powerlaw          -- Power-function\n",
      "   powerlognorm      -- Power log normal\n",
      "   powernorm         -- Power normal\n",
      "   rdist             -- R-distribution\n",
      "   reciprocal        -- Reciprocal\n",
      "   rayleigh          -- Rayleigh\n",
      "   rice              -- Rice\n",
      "   recipinvgauss     -- Reciprocal Inverse Gaussian\n",
      "   semicircular      -- Semicircular\n",
      "   skewnorm          -- Skew normal\n",
      "   t                 -- Student's T\n",
      "   trapz              -- Trapezoidal\n",
      "   triang            -- Triangular\n",
      "   truncexpon        -- Truncated Exponential\n",
      "   truncnorm         -- Truncated Normal\n",
      "   tukeylambda       -- Tukey-Lambda\n",
      "   uniform           -- Uniform\n",
      "   vonmises          -- Von-Mises (Circular)\n",
      "   vonmises_line     -- Von-Mises (Line)\n",
      "   wald              -- Wald\n",
      "   weibull_min       -- Minimum Weibull (see Frechet)\n",
      "   weibull_max       -- Maximum Weibull (see Frechet)\n",
      "   wrapcauchy        -- Wrapped Cauchy\n",
      "\n",
      "Multivariate distributions\n",
      "==========================\n",
      "\n",
      ".. autosummary::\n",
      "   :toctree: generated/\n",
      "\n",
      "   multivariate_normal   -- Multivariate normal distribution\n",
      "   matrix_normal         -- Matrix normal distribution\n",
      "   dirichlet             -- Dirichlet\n",
      "   wishart               -- Wishart\n",
      "   invwishart            -- Inverse Wishart\n",
      "   special_ortho_group   -- SO(N) group\n",
      "   ortho_group           -- O(N) group\n",
      "   random_correlation    -- random correlation matrices\n",
      "\n",
      "Discrete distributions\n",
      "======================\n",
      "\n",
      ".. autosummary::\n",
      "   :toctree: generated/\n",
      "\n",
      "   bernoulli         -- Bernoulli\n",
      "   binom             -- Binomial\n",
      "   boltzmann         -- Boltzmann (Truncated Discrete Exponential)\n",
      "   dlaplace          -- Discrete Laplacian\n",
      "   geom              -- Geometric\n",
      "   hypergeom         -- Hypergeometric\n",
      "   logser            -- Logarithmic (Log-Series, Series)\n",
      "   nbinom            -- Negative Binomial\n",
      "   planck            -- Planck (Discrete Exponential)\n",
      "   poisson           -- Poisson\n",
      "   randint           -- Discrete Uniform\n",
      "   skellam           -- Skellam\n",
      "   zipf              -- Zipf\n",
      "\n",
      "Statistical functions\n",
      "=====================\n",
      "\n",
      "Several of these functions have a similar version in scipy.stats.mstats\n",
      "which work for masked arrays.\n",
      "\n",
      ".. autosummary::\n",
      "   :toctree: generated/\n",
      "\n",
      "   describe          -- Descriptive statistics\n",
      "   gmean             -- Geometric mean\n",
      "   hmean             -- Harmonic mean\n",
      "   kurtosis          -- Fisher or Pearson kurtosis\n",
      "   kurtosistest      --\n",
      "   mode              -- Modal value\n",
      "   moment            -- Central moment\n",
      "   normaltest        --\n",
      "   skew              -- Skewness\n",
      "   skewtest          --\n",
      "   kstat             --\n",
      "   kstatvar          --\n",
      "   tmean             -- Truncated arithmetic mean\n",
      "   tvar              -- Truncated variance\n",
      "   tmin              --\n",
      "   tmax              --\n",
      "   tstd              --\n",
      "   tsem              --\n",
      "   variation         -- Coefficient of variation\n",
      "   find_repeats\n",
      "   trim_mean\n",
      "\n",
      ".. autosummary::\n",
      "   :toctree: generated/\n",
      "\n",
      "   cumfreq\n",
      "   histogram2\n",
      "   histogram\n",
      "   itemfreq\n",
      "   percentileofscore\n",
      "   scoreatpercentile\n",
      "   relfreq\n",
      "\n",
      ".. autosummary::\n",
      "   :toctree: generated/\n",
      "\n",
      "   binned_statistic     -- Compute a binned statistic for a set of data.\n",
      "   binned_statistic_2d  -- Compute a 2-D binned statistic for a set of data.\n",
      "   binned_statistic_dd  -- Compute a d-D binned statistic for a set of data.\n",
      "\n",
      ".. autosummary::\n",
      "   :toctree: generated/\n",
      "\n",
      "   obrientransform\n",
      "   signaltonoise\n",
      "   bayes_mvs\n",
      "   mvsdist\n",
      "   sem\n",
      "   zmap\n",
      "   zscore\n",
      "   iqr\n",
      "\n",
      ".. autosummary::\n",
      "   :toctree: generated/\n",
      "\n",
      "   sigmaclip\n",
      "   threshold\n",
      "   trimboth\n",
      "   trim1\n",
      "\n",
      ".. autosummary::\n",
      "   :toctree: generated/\n",
      "\n",
      "   f_oneway\n",
      "   pearsonr\n",
      "   spearmanr\n",
      "   pointbiserialr\n",
      "   kendalltau\n",
      "   linregress\n",
      "   theilslopes\n",
      "   f_value\n",
      "\n",
      ".. autosummary::\n",
      "   :toctree: generated/\n",
      "\n",
      "   ttest_1samp\n",
      "   ttest_ind\n",
      "   ttest_ind_from_stats\n",
      "   ttest_rel\n",
      "   kstest\n",
      "   chisquare\n",
      "   power_divergence\n",
      "   ks_2samp\n",
      "   mannwhitneyu\n",
      "   tiecorrect\n",
      "   rankdata\n",
      "   ranksums\n",
      "   wilcoxon\n",
      "   kruskal\n",
      "   friedmanchisquare\n",
      "   combine_pvalues\n",
      "   ss\n",
      "   square_of_sums\n",
      "   jarque_bera\n",
      "\n",
      ".. autosummary::\n",
      "   :toctree: generated/\n",
      "\n",
      "   ansari\n",
      "   bartlett\n",
      "   levene\n",
      "   shapiro\n",
      "   anderson\n",
      "   anderson_ksamp\n",
      "   binom_test\n",
      "   fligner\n",
      "   median_test\n",
      "   mood\n",
      "\n",
      ".. autosummary::\n",
      "   :toctree: generated/\n",
      "\n",
      "   boxcox\n",
      "   boxcox_normmax\n",
      "   boxcox_llf\n",
      "\n",
      "   entropy\n",
      "\n",
      ".. autosummary::\n",
      "   :toctree: generated/\n",
      "\n",
      "   chisqprob\n",
      "   betai\n",
      "\n",
      "Circular statistical functions\n",
      "==============================\n",
      "\n",
      ".. autosummary::\n",
      "   :toctree: generated/\n",
      "\n",
      "   circmean\n",
      "   circvar\n",
      "   circstd\n",
      "\n",
      "Contingency table functions\n",
      "===========================\n",
      "\n",
      ".. autosummary::\n",
      "   :toctree: generated/\n",
      "\n",
      "   chi2_contingency\n",
      "   contingency.expected_freq\n",
      "   contingency.margins\n",
      "   fisher_exact\n",
      "\n",
      "Plot-tests\n",
      "==========\n",
      "\n",
      ".. autosummary::\n",
      "   :toctree: generated/\n",
      "\n",
      "   ppcc_max\n",
      "   ppcc_plot\n",
      "   probplot\n",
      "   boxcox_normplot\n",
      "\n",
      "\n",
      "Masked statistics functions\n",
      "===========================\n",
      "\n",
      ".. toctree::\n",
      "\n",
      "   stats.mstats\n",
      "\n",
      "\n",
      "Univariate and multivariate kernel density estimation (:mod:`scipy.stats.kde`)\n",
      "==============================================================================\n",
      "\n",
      ".. autosummary::\n",
      "   :toctree: generated/\n",
      "\n",
      "   gaussian_kde\n",
      "\n",
      "For many more stat related functions install the software R and the\n",
      "interface package rpy.\n"
     ]
    }
   ],
   "source": [
    "from scipy import stats\n",
    "from scipy.stats import norm\n",
    "\n",
    "info(stats)"
   ]
  },
  {
   "cell_type": "markdown",
   "metadata": {},
   "source": [
    "### Common Methods\n",
    "\n",
    "The main public methods for continuous RVs are:\n",
    "\n",
    "- rvs: Random Variates\n",
    "- pdf: Probability Density Function\n",
    "- cdf: Cumulative Distribution Function\n",
    "- sf: Survival Function (1-CDF)\n",
    "- ppf: Percent Point Function (Inverse of CDF)\n",
    "- isf: Inverse Survival Function (Inverse of SF)\n",
    "- stats: Return mean, variance, (Fisher’s) skew, or (Fisher’s) kurtosis\n",
    "- moment: non-central moments of the distribution\n",
    "\n",
    "Let’s take a normal RV as an example. "
   ]
  },
  {
   "cell_type": "code",
   "execution_count": 12,
   "metadata": {
    "collapsed": false
   },
   "outputs": [
    {
     "data": {
      "text/plain": [
       "0.5"
      ]
     },
     "execution_count": 12,
     "metadata": {},
     "output_type": "execute_result"
    }
   ],
   "source": [
    "norm.cdf(0)  # cdf: location = 0, what the cumulated percentage?"
   ]
  },
  {
   "cell_type": "markdown",
   "metadata": {},
   "source": [
    "To compute the cdf at a number of points, we can pass a list or a numpy array."
   ]
  },
  {
   "cell_type": "code",
   "execution_count": 15,
   "metadata": {
    "collapsed": false
   },
   "outputs": [
    {
     "data": {
      "text/plain": [
       "array([ 0.15865525,  0.5       ,  0.84134475])"
      ]
     },
     "execution_count": 15,
     "metadata": {},
     "output_type": "execute_result"
    }
   ],
   "source": [
    "norm.cdf(np.array([-1., 0, 1]))"
   ]
  },
  {
   "cell_type": "markdown",
   "metadata": {},
   "source": [
    "Thus, the basic methods such as ***pdf, cdf***, and so on are vectorized with np.vectorize.\n",
    "\n",
    "Other generally useful methods are supported too:"
   ]
  },
  {
   "cell_type": "code",
   "execution_count": 16,
   "metadata": {
    "collapsed": false
   },
   "outputs": [
    {
     "data": {
      "text/plain": [
       "(0.0, 1.0, 1.0)"
      ]
     },
     "execution_count": 16,
     "metadata": {},
     "output_type": "execute_result"
    }
   ],
   "source": [
    "norm.mean(), norm.std(), norm.var()"
   ]
  },
  {
   "cell_type": "code",
   "execution_count": 17,
   "metadata": {
    "collapsed": false
   },
   "outputs": [
    {
     "data": {
      "text/plain": [
       "(array(0.0), array(1.0))"
      ]
     },
     "execution_count": 17,
     "metadata": {},
     "output_type": "execute_result"
    }
   ],
   "source": [
    "norm.stats(moments = \"mv\")"
   ]
  },
  {
   "cell_type": "code",
   "execution_count": 18,
   "metadata": {
    "collapsed": true
   },
   "outputs": [],
   "source": [
    "norm.stats?"
   ]
  },
  {
   "cell_type": "markdown",
   "metadata": {},
   "source": [
    "To find the median of a distribution we can use the percent point function ***ppf***, which is the inverse of the cdf:"
   ]
  },
  {
   "cell_type": "code",
   "execution_count": 19,
   "metadata": {
    "collapsed": false
   },
   "outputs": [
    {
     "data": {
      "text/plain": [
       "0.0"
      ]
     },
     "execution_count": 19,
     "metadata": {},
     "output_type": "execute_result"
    }
   ],
   "source": [
    "norm.ppf(0.5)  # percentage = 0.5, what's the location?"
   ]
  },
  {
   "cell_type": "markdown",
   "metadata": {},
   "source": [
    "To generate a sequence of random variates, use the ***size*** keyword argument:"
   ]
  },
  {
   "cell_type": "code",
   "execution_count": 120,
   "metadata": {
    "collapsed": false
   },
   "outputs": [
    {
     "data": {
      "text/plain": [
       "array([ 0.12471295, -0.32279481,  0.84167471])"
      ]
     },
     "execution_count": 120,
     "metadata": {},
     "output_type": "execute_result"
    }
   ],
   "source": [
    "norm.rvs(size = 3)"
   ]
  },
  {
   "cell_type": "markdown",
   "metadata": {},
   "source": [
    "Note that drawing random numbers relies on generators from numpy.random package. In the example above, the specific stream of random numbers is not reproducible across runs. To achieve reproducibility, you can explicitly seed a global variable"
   ]
  },
  {
   "cell_type": "code",
   "execution_count": 108,
   "metadata": {
    "collapsed": false
   },
   "outputs": [
    {
     "data": {
      "text/plain": [
       "array([ 0.47143516, -1.19097569,  1.43270697])"
      ]
     },
     "execution_count": 108,
     "metadata": {},
     "output_type": "execute_result"
    }
   ],
   "source": [
    "np.random.seed(1234)\n",
    "norm.rvs(size = 3)"
   ]
  },
  {
   "cell_type": "markdown",
   "metadata": {},
   "source": [
    "Relying on a global state is not recommended though. A better way is to use the random_state parameter which accepts an instance of numpy.random.RandomState class, or an integer which is then used to seed an internal RandomState object:"
   ]
  },
  {
   "cell_type": "code",
   "execution_count": 130,
   "metadata": {
    "collapsed": false
   },
   "outputs": [
    {
     "data": {
      "text/plain": [
       "array([ 0.47143516, -1.19097569,  1.43270697, -0.3126519 , -0.72058873])"
      ]
     },
     "execution_count": 130,
     "metadata": {},
     "output_type": "execute_result"
    }
   ],
   "source": [
    "norm.rvs(size=5, random_state=1234)"
   ]
  },
  {
   "cell_type": "markdown",
   "metadata": {},
   "source": [
    "Don’t think that norm.rvs(5) generates 5 variates:"
   ]
  },
  {
   "cell_type": "code",
   "execution_count": 131,
   "metadata": {
    "collapsed": false
   },
   "outputs": [
    {
     "data": {
      "text/plain": [
       "7.3909605154630329"
      ]
     },
     "execution_count": 131,
     "metadata": {},
     "output_type": "execute_result"
    }
   ],
   "source": [
    "norm.rvs(5)"
   ]
  },
  {
   "cell_type": "markdown",
   "metadata": {},
   "source": [
    "Here, 5 with no keyword is being interpreted as the first possible keyword argument, ***loc***, which is the first of a pair of keyword arguments taken by all continuous distributions. This brings us to the topic of the next subsection."
   ]
  },
  {
   "cell_type": "markdown",
   "metadata": {},
   "source": [
    "### Shifting and Scaling\n",
    "\n",
    "All continuous distributions take ***loc*** and ***scale*** as keyword parameters to adjust the location and scale of the distribution, e.g. for the standard normal distribution the location is the ***mean*** and the scale is the ***standard deviation***."
   ]
  },
  {
   "cell_type": "code",
   "execution_count": 135,
   "metadata": {
    "collapsed": false
   },
   "outputs": [
    {
     "data": {
      "text/plain": [
       "(array(3.0), array(16.0))"
      ]
     },
     "execution_count": 135,
     "metadata": {},
     "output_type": "execute_result"
    }
   ],
   "source": [
    "norm.stats(loc = 3, scale = 4, moments = 'mv')"
   ]
  },
  {
   "cell_type": "markdown",
   "metadata": {},
   "source": [
    "In many cases the standardized distribution for a random variable X is obtained through the transformation ***(X - loc) / scale***. The default values are loc = 0 and scale = 1.\n",
    "\n",
    "Smart use of loc and scale can help modify the standard distributions in many ways. To illustrate the scaling further, the cdf of an exponentially distributed RV with mean $1/\\lambda$ is given by\n",
    ">$F(x) = 1 - \\exp(-\\lambda x)$\n",
    "\n",
    "By applying the scaling rule above, it can be seen that by taking scale  = 1./lambda we get the proper scale."
   ]
  },
  {
   "cell_type": "code",
   "execution_count": 136,
   "metadata": {
    "collapsed": false
   },
   "outputs": [
    {
     "data": {
      "text/plain": [
       "3.0"
      ]
     },
     "execution_count": 136,
     "metadata": {},
     "output_type": "execute_result"
    }
   ],
   "source": [
    "from scipy.stats import expon\n",
    "expon.mean(scale = 3.)"
   ]
  },
  {
   "cell_type": "code",
   "execution_count": 146,
   "metadata": {
    "collapsed": false
   },
   "outputs": [
    {
     "data": {
      "text/plain": [
       "[<matplotlib.lines.Line2D at 0x7fcd15403710>]"
      ]
     },
     "execution_count": 146,
     "metadata": {},
     "output_type": "execute_result"
    },
    {
     "data": {
      "image/png": "[encoded data removed]",
      "text/plain": [
       "<matplotlib.figure.Figure at 0x7fcd1540eac8>"
      ]
     },
     "metadata": {},
     "output_type": "display_data"
    }
   ],
   "source": [
    "l = 1./3.\n",
    "scale = 1./l\n",
    "\n",
    "x = np.linspace(0, 10, 500)\n",
    "plot(x, 1 - np.exp(-l*x))"
   ]
  },
  {
   "cell_type": "markdown",
   "metadata": {},
   "source": [
    "#### Note\n",
    "Distributions that take shape parameters may require more than simple application of loc and/or scale to achieve the desired form. For example, the distribution of 2-D vector lengths given a constant vector of length RR perturbed by independent N(0, σ2) deviations in each component is rice(R/σ, scale= σ). The first argument is a shape parameter that needs to be scaled along with x.\n",
    "\n",
    "The uniform distribution is also interesting:"
   ]
  },
  {
   "cell_type": "code",
   "execution_count": 147,
   "metadata": {
    "collapsed": false
   },
   "outputs": [
    {
     "data": {
      "text/plain": [
       "array([ 0.  ,  0.  ,  0.25,  0.5 ,  0.75,  1.  ])"
      ]
     },
     "execution_count": 147,
     "metadata": {},
     "output_type": "execute_result"
    }
   ],
   "source": [
    "from scipy.stats import uniform\n",
    "uniform.cdf([0, 1, 2, 3, 4, 5], loc = 1, scale = 4)"
   ]
  },
  {
   "cell_type": "code",
   "execution_count": 154,
   "metadata": {
    "collapsed": false
   },
   "outputs": [
    {
     "data": {
      "text/plain": [
       "[<matplotlib.lines.Line2D at 0x7fcd15083b70>]"
      ]
     },
     "execution_count": 154,
     "metadata": {},
     "output_type": "execute_result"
    },
    {
     "data": {
      "image/png": "[encoded data removed]",
      "text/plain": [
       "<matplotlib.figure.Figure at 0x7fcd1508e7b8>"
      ]
     },
     "metadata": {},
     "output_type": "display_data"
    }
   ],
   "source": [
    "x = np.linspace(0, 10, 500)\n",
    "y = uniform.pdf(x, loc = 1, scale = 4)\n",
    "plot(x,y)"
   ]
  },
  {
   "cell_type": "markdown",
   "metadata": {},
   "source": [
    "Finally, recall from the previous paragraph that we are left with the problem of the meaning of norm.rvs(5). As it turns out, calling a distribution like this, the first argument, i.e., the 5, gets passed to set the ***loc*** parameter. Let’s see:"
   ]
  },
  {
   "cell_type": "code",
   "execution_count": 156,
   "metadata": {
    "collapsed": false
   },
   "outputs": [
    {
     "data": {
      "text/plain": [
       "4.9992921110578186"
      ]
     },
     "execution_count": 156,
     "metadata": {},
     "output_type": "execute_result"
    }
   ],
   "source": [
    "np.mean(norm.rvs(5, size = 500))"
   ]
  },
  {
   "cell_type": "code",
   "execution_count": 167,
   "metadata": {
    "collapsed": false
   },
   "outputs": [
    {
     "data": {
      "image/png": "[encoded data removed]",
      "text/plain": [
       "<matplotlib.figure.Figure at 0x7fcd14313390>"
      ]
     },
     "metadata": {},
     "output_type": "display_data"
    }
   ],
   "source": [
    "N = 500 \n",
    "# x = np.linspace(0, 10, N)\n",
    "y = norm.rvs(loc = 5, size = N)\n",
    "plt.hist(y);"
   ]
  },
  {
   "cell_type": "markdown",
   "metadata": {},
   "source": [
    "Thus, to explain the output of the example of the last section: norm.rvs(5) generates a single normally distributed random variate with mean loc=5, because of the default size=1.\n",
    "\n",
    "We recommend that you set loc and scale parameters explicitly, by passing the values as keywords rather than as arguments. Repetition can be minimized when calling more than one method of a given RV by using the technique of Freezing a Distribution, as explained below.\n",
    "\n",
    "### Shape Parameters\n",
    "\n",
    "While a general continuous random variable can be shifted and scaled with the loc and scale parameters, some distributions require additional shape parameters. For instance, the ***gamma distribution***, with density\n",
    ">$\\gamma(x, a) = \\frac{\\lambda (\\lambda x)^{a-1}}{\\Gamma(a)} e^{-\\lambda x}\\;,$\n",
    "\n",
    "requires the shape parameter ***a***. Observe that setting λ can be obtained by setting the ***scale*** keyword to ***1/λ***.\n",
    "\n",
    "Let’s check the number and name of the shape parameters of the gamma distribution. (We know from the above that this should be 1.)"
   ]
  },
  {
   "cell_type": "code",
   "execution_count": 164,
   "metadata": {
    "collapsed": false
   },
   "outputs": [
    {
     "data": {
      "text/plain": [
       "1"
      ]
     },
     "execution_count": 164,
     "metadata": {},
     "output_type": "execute_result"
    }
   ],
   "source": [
    "from scipy.stats import gamma\n",
    "gamma.numargs"
   ]
  },
  {
   "cell_type": "code",
   "execution_count": 166,
   "metadata": {
    "collapsed": false
   },
   "outputs": [
    {
     "data": {
      "text/plain": [
       "'a'"
      ]
     },
     "execution_count": 166,
     "metadata": {},
     "output_type": "execute_result"
    }
   ],
   "source": [
    "gamma.shapes"
   ]
  },
  {
   "cell_type": "markdown",
   "metadata": {},
   "source": [
    "Now we set the value of the shape variable to 1 to obtain the exponential distribution, so that we compare easily whether we get the results we expect."
   ]
  },
  {
   "cell_type": "code",
   "execution_count": 169,
   "metadata": {
    "collapsed": false
   },
   "outputs": [
    {
     "data": {
      "text/plain": [
       "<scipy.stats._distn_infrastructure.rv_frozen at 0x7fcd13be1cc0>"
      ]
     },
     "execution_count": 169,
     "metadata": {},
     "output_type": "execute_result"
    }
   ],
   "source": [
    "g = gamma(a = 1, scale = 2)\n",
    "g"
   ]
  },
  {
   "cell_type": "code",
   "execution_count": 181,
   "metadata": {
    "collapsed": false
   },
   "outputs": [
    {
     "data": {
      "text/plain": [
       "(array(2.0), array(4.0))"
      ]
     },
     "execution_count": 181,
     "metadata": {},
     "output_type": "execute_result"
    }
   ],
   "source": [
    "m, v = g.stats(moments = 'mv')\n",
    "m, v"
   ]
  },
  {
   "cell_type": "code",
   "execution_count": 189,
   "metadata": {
    "collapsed": false
   },
   "outputs": [
    {
     "data": {
      "text/plain": [
       "[<matplotlib.lines.Line2D at 0x7fcd1415d4a8>]"
      ]
     },
     "execution_count": 189,
     "metadata": {},
     "output_type": "execute_result"
    },
    {
     "data": {
      "image/png": "[encoded data removed]",
      "text/plain": [
       "<matplotlib.figure.Figure at 0x7fcd141fd860>"
      ]
     },
     "metadata": {},
     "output_type": "display_data"
    }
   ],
   "source": [
    "x = np.linspace(m - 2. * np.sqrt(v), m + 2. * np.sqrt(v), 500)\n",
    "y = g.pdf(x)\n",
    "plot(x, y)"
   ]
  },
  {
   "cell_type": "markdown",
   "metadata": {},
   "source": [
    "## Freezing a Distribution\n",
    "\n",
    "Passing the loc and scale keywords time and again can become quite bothersome. The concept of freezing a RV is used to solve such problems."
   ]
  },
  {
   "cell_type": "code",
   "execution_count": 186,
   "metadata": {
    "collapsed": false
   },
   "outputs": [
    {
     "data": {
      "text/plain": [
       "<scipy.stats._distn_infrastructure.rv_frozen at 0x7fcd13c88dd8>"
      ]
     },
     "execution_count": 186,
     "metadata": {},
     "output_type": "execute_result"
    }
   ],
   "source": [
    "rv = gamma(a = 1, scale = 2)\n",
    "rv"
   ]
  },
  {
   "cell_type": "markdown",
   "metadata": {},
   "source": [
    "By using rv we no longer have to include the scale or the shape parameters anymore. Thus, distributions can be used in one of two ways, either by passing all distribution parameters to each method call (such as we did earlier) or by freezing the parameters for the instance of the distribution. Let us check this:"
   ]
  },
  {
   "cell_type": "code",
   "execution_count": 187,
   "metadata": {
    "collapsed": false
   },
   "outputs": [
    {
     "data": {
      "text/plain": [
       "(2.0, 2.0)"
      ]
     },
     "execution_count": 187,
     "metadata": {},
     "output_type": "execute_result"
    }
   ],
   "source": [
    "rv.mean(), rv.std()"
   ]
  },
  {
   "cell_type": "markdown",
   "metadata": {},
   "source": [
    "This is indeed what we should get.\n",
    "\n",
    "### Broadcasting\n",
    "\n",
    "The basic methods ***pdf*** and so on satisfy the usual numpy broadcasting rules. For example, we can calculate the critical values for the upper tail of the t distribution for different probabilities and degrees of freedom."
   ]
  },
  {
   "cell_type": "code",
   "execution_count": 191,
   "metadata": {
    "collapsed": false
   },
   "outputs": [
    {
     "data": {
      "text/plain": [
       "array([[ 1.37218364,  1.81246112,  2.76376946],\n",
       "       [ 1.36343032,  1.79588482,  2.71807918]])"
      ]
     },
     "execution_count": 191,
     "metadata": {},
     "output_type": "execute_result"
    }
   ],
   "source": [
    "stats.t.isf([0.1, 0.05, 0.01], [[10], [11]])"
   ]
  },
  {
   "cell_type": "markdown",
   "metadata": {},
   "source": [
    "Here, the first row are the critical values for 10 degrees of freedom and the second row for 11 ***degrees of freedom (d.o.f.)***. Thus, the broadcasting rules give the same result of calling isf twice:"
   ]
  },
  {
   "cell_type": "code",
   "execution_count": 192,
   "metadata": {
    "collapsed": false
   },
   "outputs": [
    {
     "data": {
      "text/plain": [
       "array([ 1.37218364,  1.81246112,  2.76376946])"
      ]
     },
     "execution_count": 192,
     "metadata": {},
     "output_type": "execute_result"
    }
   ],
   "source": [
    "stats.t.isf([0.1, 0.05, 0.01], 10)"
   ]
  },
  {
   "cell_type": "code",
   "execution_count": 193,
   "metadata": {
    "collapsed": false
   },
   "outputs": [
    {
     "data": {
      "text/plain": [
       "array([ 1.36343032,  1.79588482,  2.71807918])"
      ]
     },
     "execution_count": 193,
     "metadata": {},
     "output_type": "execute_result"
    }
   ],
   "source": [
    "stats.t.isf([0.1, 0.05, 0.01], 11)"
   ]
  },
  {
   "cell_type": "markdown",
   "metadata": {},
   "source": [
    "If the array with probabilities, i.e., [0.1, 0.05, 0.01] and the array of degrees of freedom i.e., [10, 11, 12], have the same array shape, then element wise matching is used. As an example, we can obtain the 10% tail for 10 d.o.f., the 5% tail for 11 d.o.f. and the 1% tail for 12 d.o.f. by calling"
   ]
  },
  {
   "cell_type": "code",
   "execution_count": 194,
   "metadata": {
    "collapsed": false
   },
   "outputs": [
    {
     "data": {
      "text/plain": [
       "array([ 1.37218364,  1.79588482,  2.68099799])"
      ]
     },
     "execution_count": 194,
     "metadata": {},
     "output_type": "execute_result"
    }
   ],
   "source": [
    "stats.t.isf([0.1, 0.05, 0.01], [10, 11, 12])"
   ]
  },
  {
   "cell_type": "markdown",
   "metadata": {},
   "source": [
    "### Specific Points for Discrete Distributions\n",
    "\n",
    "Discrete distribution have mostly the same basic methods as the continuous distributions. However pdf is replaced the ***probability mass function pmf***, no estimation methods, such as fit, are available, and scale is not a valid keyword parameter. The location parameter, keyword loc can still be used to shift the distribution.\n",
    "\n",
    "The computation of the ***cdf*** requires some extra attention. In the case of continuous distribution the cumulative distribution function is in most standard cases strictly monotonic increasing in the bounds (a,b) and has therefore a unique inverse. The cdf of a discrete distribution, however, is a ***step function***, hence the ***inverse cdf***, i.e., the percent point function, requires a different definition:\n",
    "\n",
    "ppf(q) = min{x : cdf(x) >= q, x integer}\n",
    "\n",
    "For further info, see the docs here.\n",
    "\n",
    "We can look at the ***hypergeometric*** distribution as an example"
   ]
  },
  {
   "cell_type": "code",
   "execution_count": 195,
   "metadata": {
    "collapsed": false
   },
   "outputs": [
    {
     "data": {
      "text/plain": [
       "(20, 7, 12)"
      ]
     },
     "execution_count": 195,
     "metadata": {},
     "output_type": "execute_result"
    }
   ],
   "source": [
    "from scipy.stats import hypergeom\n",
    "[M, n, N] = [20, 7, 12]\n",
    "M, n, N"
   ]
  },
  {
   "cell_type": "markdown",
   "metadata": {},
   "source": [
    "If we use the cdf at some integer points and then evaluate the ppf at those cdf values, we get the initial integers back, for example"
   ]
  },
  {
   "cell_type": "code",
   "execution_count": 196,
   "metadata": {
    "collapsed": false
   },
   "outputs": [
    {
     "data": {
      "text/plain": [
       "array([0, 2, 4, 6])"
      ]
     },
     "execution_count": 196,
     "metadata": {},
     "output_type": "execute_result"
    }
   ],
   "source": [
    "x = np.arange(4) * 2\n",
    "x"
   ]
  },
  {
   "cell_type": "code",
   "execution_count": 198,
   "metadata": {
    "collapsed": false
   },
   "outputs": [
    {
     "data": {
      "text/plain": [
       "array([  1.03199174e-04,   5.21155831e-02,   6.08359133e-01,\n",
       "         9.89783282e-01])"
      ]
     },
     "execution_count": 198,
     "metadata": {},
     "output_type": "execute_result"
    }
   ],
   "source": [
    "prb = hypergeom.cdf(x, M, n, N)\n",
    "prb"
   ]
  },
  {
   "cell_type": "code",
   "execution_count": 199,
   "metadata": {
    "collapsed": false
   },
   "outputs": [
    {
     "data": {
      "text/plain": [
       "array([ 0.,  2.,  4.,  6.])"
      ]
     },
     "execution_count": 199,
     "metadata": {},
     "output_type": "execute_result"
    }
   ],
   "source": [
    "hypergeom.ppf(prb, M, n, N)"
   ]
  },
  {
   "cell_type": "markdown",
   "metadata": {},
   "source": [
    "If we use values that are not at the kinks of the cdf step function, we get the next higher integer back:"
   ]
  },
  {
   "cell_type": "code",
   "execution_count": 200,
   "metadata": {
    "collapsed": false
   },
   "outputs": [
    {
     "data": {
      "text/plain": [
       "array([ 1.,  3.,  5.,  7.])"
      ]
     },
     "execution_count": 200,
     "metadata": {},
     "output_type": "execute_result"
    }
   ],
   "source": [
    "hypergeom.ppf(prb + 1e-8, M, n, N)"
   ]
  },
  {
   "cell_type": "code",
   "execution_count": 201,
   "metadata": {
    "collapsed": false
   },
   "outputs": [
    {
     "data": {
      "text/plain": [
       "array([ 0.,  2.,  4.,  6.])"
      ]
     },
     "execution_count": 201,
     "metadata": {},
     "output_type": "execute_result"
    }
   ],
   "source": [
    "hypergeom.ppf(prb - 1e-8, M, n, N)"
   ]
  },
  {
   "cell_type": "markdown",
   "metadata": {},
   "source": [
    "### Fitting Distributions\n",
    "\n",
    "The main additional methods of the not frozen distribution are related to the estimation of distribution parameters:\n",
    "\n",
    "- **fit: maximum likelihood estimation of distribution parameters, including location\n",
    "and scale**\n",
    "\n",
    "- fit_loc_scale: estimation of location and scale when shape parameters are given\n",
    "\n",
    "- nnlf: negative log likelihood function\n",
    "\n",
    "- expect: Calculate the expectation of a function against the pdf or pmf\n",
    "\n",
    "\n",
    "### Performance Issues and Cautionary Remarks\n",
    "\n",
    "The performance of the individual methods, in terms of speed, varies widely by distribution and method. The results of a method are obtained in one of two ways: either by explicit calculation, or by a generic algorithm that is independent of the specific distribution.\n",
    "\n",
    "**Explicit calculation**, on the one hand, requires that the method is directly specified for the given distribution, either through analytic formulas or through special functions in scipy.special or numpy.random for rvs. These are usually relatively fast calculations.\n",
    "\n",
    "The **generic methods**, on the other hand, are used if the distribution does not specify any explicit calculation. To **define a distribution, only one of pdf or cdf is necessary**; all other methods can be derived using numeric integration and root finding. However, these indirect methods can be very slow. As an example, rgh = stats.gausshyper.rvs(0.5, 2, 2, 2, size=100) creates random variables in a very indirect way and takes about 19 seconds for 100 random variables on my computer, while one million random variables from the standard normal or from the t distribution take just above one second.\n",
    "\n",
    "### Remaining Issues\n",
    "\n",
    "The distributions in scipy.stats have recently been corrected and improved and gained a considerable test suite, however a few issues remain:\n",
    "\n",
    "- the distributions have been tested over some range of parameters, however in some corner ranges, a few incorrect results may remain.\n",
    "- the maximum likelihood estimation in ***fit*** does not work with default starting parameters for all distributions and the user needs to supply good starting parameters. Also, for some distribution using a maximum likelihood estimator might inherently not be the best choice."
   ]
  },
  {
   "cell_type": "markdown",
   "metadata": {},
   "source": [
    "## Building Specific Distributions\n",
    "The next examples shows how to build your own distributions. Further examples show the usage of the distributions and some statistical tests.\n",
    "\n",
    "### Making a Continuous Distribution, i.e., Subclassing rv_continuous\n",
    "\n",
    "Making continuous distributions is fairly simple."
   ]
  },
  {
   "cell_type": "code",
   "execution_count": 204,
   "metadata": {
    "collapsed": false
   },
   "outputs": [
    {
     "data": {
      "text/plain": [
       "array([ 0.,  0.,  0.,  0.,  0.,  0.,  1.,  1.,  1.,  1.,  1.,  1.])"
      ]
     },
     "execution_count": 204,
     "metadata": {},
     "output_type": "execute_result"
    }
   ],
   "source": [
    "from scipy import stats\n",
    "class deterministic_gen(stats.rv_continuous):\n",
    "    def _cdf(self, x):\n",
    "        return np.where(x<0, 0., 1.)\n",
    "    \n",
    "    def _stats(self):\n",
    "        return 0., 0., 0., 0.\n",
    "    \n",
    "deterministic = deterministic_gen(name = 'deterministric')\n",
    "deterministic.cdf(np.arange(-3, 3, 0.5))"
   ]
  },
  {
   "cell_type": "markdown",
   "metadata": {},
   "source": [
    "Interestingly, the pdf is now computed automatically:"
   ]
  },
  {
   "cell_type": "code",
   "execution_count": 206,
   "metadata": {
    "collapsed": false
   },
   "outputs": [
    {
     "data": {
      "text/plain": [
       "array([  0.00000000e+00,   0.00000000e+00,   0.00000000e+00,\n",
       "         0.00000000e+00,   0.00000000e+00,   0.00000000e+00,\n",
       "         5.83333333e+04,   4.16333634e-12,   4.16333634e-12,\n",
       "         4.16333634e-12,   4.16333634e-12,   4.16333634e-12])"
      ]
     },
     "execution_count": 206,
     "metadata": {},
     "output_type": "execute_result"
    }
   ],
   "source": [
    "deterministic.pdf(np.arange(-3, 3, 0.5))"
   ]
  },
  {
   "cell_type": "markdown",
   "metadata": {},
   "source": [
    "Be aware of the performance issues mentions in Performance Issues and Cautionary Remarks. The computation of unspecified common methods can become very slow, since only general methods are called which, by their very nature, cannot use any specific information about the distribution. Thus, as a cautionary example:"
   ]
  },
  {
   "cell_type": "code",
   "execution_count": 209,
   "metadata": {
    "collapsed": false
   },
   "outputs": [
    {
     "data": {
      "text/plain": [
       "(4.163336342344337e-13, 0.0)"
      ]
     },
     "execution_count": 209,
     "metadata": {},
     "output_type": "execute_result"
    }
   ],
   "source": [
    "from scipy.integrate import quad\n",
    "quad(deterministic.pdf, -1e-1, 1e-1)"
   ]
  },
  {
   "cell_type": "markdown",
   "metadata": {},
   "source": [
    "But this is not correct: the ***integral over this pdf should be 1***. Let’s make the integration interval smaller:"
   ]
  },
  {
   "cell_type": "code",
   "execution_count": 210,
   "metadata": {
    "collapsed": false
   },
   "outputs": [
    {
     "name": "stderr",
     "output_type": "stream",
     "text": [
      "/home/wei/anaconda3/lib/python3.6/site-packages/scipy/integrate/quadpack.py:356: IntegrationWarning: The maximum number of subdivisions (50) has been achieved.\n",
      "  If increasing the limit yields no improvement it is advised to analyze \n",
      "  the integrand in order to determine the difficulties.  If the position of a \n",
      "  local difficulty can be determined (singularity, discontinuity) one will \n",
      "  probably gain from splitting up the interval and calling the integrator \n",
      "  on the subranges.  Perhaps a special-purpose integrator should be used.\n",
      "  warnings.warn(msg, IntegrationWarning)\n"
     ]
    },
    {
     "data": {
      "text/plain": [
       "(1.000076872229173, 0.0010625571718182458)"
      ]
     },
     "execution_count": 210,
     "metadata": {},
     "output_type": "execute_result"
    }
   ],
   "source": [
    "quad(deterministic.pdf, -1e-3, 1e-3)  # warning removed"
   ]
  },
  {
   "cell_type": "markdown",
   "metadata": {},
   "source": [
    "This looks better. However, the problem originated from the fact that the pdf is not specified in the class definition of the deterministic distribution."
   ]
  },
  {
   "cell_type": "markdown",
   "metadata": {},
   "source": [
    "### Subclassing rv_discrete\n",
    "\n",
    "In the following we use ***stats.rv_discrete*** to generate a discrete distribution that has the probabilities of the truncated normal for the intervals centered around the integers.\n",
    "\n",
    "#### General Info\n",
    "\n",
    "From the docstring of rv_discrete, help(stats.rv_discrete),\n",
    ">“You can construct an arbitrary discrete rv where P{X=xk} = pk by passing to the rv_discrete initialization method (through the values= keyword) a tuple of sequences (xk, pk) which describes only those values of X (xk) that occur with nonzero probability (pk).”\n",
    "\n",
    "Next to this, there are some further requirements for this approach to work:\n",
    "\n",
    "- The keyword name is required.\n",
    "- The support points of the distribution xk have to be integers.\n",
    "- The number of significant digits (decimals) needs to be specified.\n",
    "\n",
    "In fact, if the last two requirements are not satisfied an exception may be raised or the resulting numbers may be incorrect.\n",
    "\n",
    "#### An Example\n",
    "\n",
    "Let’s do the work. First"
   ]
  },
  {
   "cell_type": "code",
   "execution_count": 212,
   "metadata": {
    "collapsed": true
   },
   "outputs": [],
   "source": [
    "npoints = 20   # number of integer support points of the distribution minus 1\n",
    "npointsh = npoints / 2\n",
    "npointsf = float(npoints)\n",
    "nbound = 4   # bounds for the truncated normal\n",
    "normbound = (1+1/npointsf) * nbound   # actual bounds of truncated normal\n",
    "grid = np.arange(-npointsh, npointsh+2, 1)   # integer grid\n",
    "gridlimitsnorm = (grid-0.5) / npointsh * nbound   # bin limits for the truncnorm\n",
    "gridlimits = grid - 0.5   # used later in the analysis\n",
    "grid = grid[:-1]\n",
    "probs = np.diff(stats.truncnorm.cdf(gridlimitsnorm, -normbound, normbound))\n",
    "gridint = grid"
   ]
  },
  {
   "cell_type": "markdown",
   "metadata": {},
   "source": [
    "And finally we can subclass rv_discrete:"
   ]
  },
  {
   "cell_type": "code",
   "execution_count": 213,
   "metadata": {
    "collapsed": true
   },
   "outputs": [],
   "source": [
    "normdiscrete = stats.rv_discrete(values=(gridint, np.round(probs, decimals=7)),\n",
    "                                 name='normdiscrete')"
   ]
  },
  {
   "cell_type": "markdown",
   "metadata": {},
   "source": [
    "Now that we have defined the distribution, we have access to all common methods of discrete distributions."
   ]
  },
  {
   "cell_type": "code",
   "execution_count": 214,
   "metadata": {
    "collapsed": false
   },
   "outputs": [
    {
     "name": "stdout",
     "output_type": "stream",
     "text": [
      "mean = -0.0000, variance = 6.3302, skew = 0.0000, kurtosis = -0.0076\n"
     ]
    }
   ],
   "source": [
    "print('mean = %6.4f, variance = %6.4f, skew = %6.4f, kurtosis = %6.4f'% \\\n",
    "      normdiscrete.stats(moments =  'mvsk'))"
   ]
  },
  {
   "cell_type": "code",
   "execution_count": 223,
   "metadata": {
    "collapsed": false
   },
   "outputs": [
    {
     "data": {
      "text/plain": [
       "<Container object of 21 artists>"
      ]
     },
     "execution_count": 223,
     "metadata": {},
     "output_type": "execute_result"
    },
    {
     "data": {
      "image/png": "[encoded data removed]",
      "text/plain": [
       "<matplotlib.figure.Figure at 0x7fcd13b95780>"
      ]
     },
     "metadata": {},
     "output_type": "display_data"
    }
   ],
   "source": [
    "y = normdiscrete.pmf(grid)\n",
    "plt.bar(grid, y)"
   ]
  },
  {
   "cell_type": "code",
   "execution_count": 224,
   "metadata": {
    "collapsed": false
   },
   "outputs": [
    {
     "data": {
      "text/plain": [
       "2.5159815977069466"
      ]
     },
     "execution_count": 224,
     "metadata": {},
     "output_type": "execute_result"
    }
   ],
   "source": [
    "nd_std = np.sqrt(normdiscrete.stats(moments='v'))\n",
    "nd_std"
   ]
  },
  {
   "cell_type": "markdown",
   "metadata": {},
   "source": [
    "#### Testing the Implementation\n",
    "\n",
    "Let’s generate a random sample and compare observed frequencies with the probabilities."
   ]
  },
  {
   "cell_type": "code",
   "execution_count": 229,
   "metadata": {
    "collapsed": false
   },
   "outputs": [
    {
     "data": {
      "image/png": "[encoded data removed]",
      "text/plain": [
       "<matplotlib.figure.Figure at 0x7fcd13cf2ba8>"
      ]
     },
     "metadata": {},
     "output_type": "display_data"
    }
   ],
   "source": [
    "# import numpy as np\n",
    "# import matplotlib.pyplot as plt\n",
    "# from scipy import stats\n",
    "\n",
    "# npoints = 20 # number of integer support points of the distribution minus 1\n",
    "# npointsh = npoints / 2\n",
    "# npointsf = float(npoints)\n",
    "# nbound = 4 #bounds for the truncated normal\n",
    "# normbound = (1 + 1 / npointsf) * nbound #actual bounds of truncated normal\n",
    "# grid = np.arange(-npointsh, npointsh+2, 1) #integer grid\n",
    "# gridlimitsnorm = (grid-0.5) / npointsh * nbound #bin limits for the truncnorm\n",
    "# gridlimits = grid - 0.5\n",
    "# grid = grid[:-1]\n",
    "# probs = np.diff(stats.truncnorm.cdf(gridlimitsnorm, -normbound, normbound))\n",
    "# gridint = grid\n",
    "# normdiscrete = stats.rv_discrete(\n",
    "#                         values=(gridint, np.round(probs, decimals=7)),\n",
    "#                         name='normdiscrete')\n",
    "\n",
    "\n",
    "n_sample = 500\n",
    "np.random.seed(87655678) #fix the seed for replicability\n",
    "rvs = normdiscrete.rvs(size=n_sample)\n",
    "rvsnd=rvs\n",
    "f,l = np.histogram(rvs, bins=gridlimits)\n",
    "sfreq = np.vstack([gridint, f, probs*n_sample]).T\n",
    "fs = sfreq[:,1] / float(n_sample)\n",
    "ft = sfreq[:,2] / float(n_sample)\n",
    "nd_std = np.sqrt(normdiscrete.stats(moments='v'))\n",
    "\n",
    "ind = gridint  # the x locations for the groups\n",
    "width = 0.35       # the width of the bars\n",
    "\n",
    "plt.subplot(111)\n",
    "rects1 = plt.bar(ind, ft, width, color='b')\n",
    "rects2 = plt.bar(ind+width, fs, width, color='r')\n",
    "normline = plt.plot(ind+width/2.0, stats.norm.pdf(ind, scale=nd_std),\n",
    "                    color='b')\n",
    "\n",
    "plt.ylabel('Frequency')\n",
    "plt.title('Frequency and Probability of normdiscrete')\n",
    "plt.xticks(ind+width, ind)\n",
    "plt.legend((rects1[0], rects2[0]), ('true', 'sample'))\n",
    "\n",
    "plt.show()"
   ]
  },
  {
   "cell_type": "code",
   "execution_count": 231,
   "metadata": {
    "collapsed": false
   },
   "outputs": [
    {
     "data": {
      "image/png": "[encoded data removed]",
      "text/plain": [
       "<matplotlib.figure.Figure at 0x7fcd13cd7278>"
      ]
     },
     "metadata": {},
     "output_type": "display_data"
    }
   ],
   "source": [
    "import numpy as np\n",
    "import matplotlib.pyplot as plt\n",
    "from scipy import stats\n",
    "\n",
    "npoints = 20 # number of integer support points of the distribution minus 1\n",
    "npointsh = npoints / 2\n",
    "npointsf = float(npoints)\n",
    "nbound = 4 #bounds for the truncated normal\n",
    "normbound = (1 + 1 / npointsf) * nbound #actual bounds of truncated normal\n",
    "grid = np.arange(-npointsh, npointsh+2,1) #integer grid\n",
    "gridlimitsnorm = (grid - 0.5) / npointsh * nbound #bin limits for the truncnorm\n",
    "gridlimits = grid - 0.5\n",
    "grid = grid[:-1]\n",
    "probs = np.diff(stats.truncnorm.cdf(gridlimitsnorm, -normbound, normbound))\n",
    "gridint = grid\n",
    "normdiscrete = stats.rv_discrete(\n",
    "                        values=(gridint, np.round(probs, decimals=7)),\n",
    "                        name='normdiscrete')\n",
    "\n",
    "n_sample = 500\n",
    "np.random.seed(87655678) #fix the seed for replicability\n",
    "rvs = normdiscrete.rvs(size=n_sample)\n",
    "rvsnd = rvs\n",
    "f,l = np.histogram(rvs,bins=gridlimits)\n",
    "sfreq = np.vstack([gridint,f,probs*n_sample]).T\n",
    "fs = sfreq[:,1] / float(n_sample)\n",
    "ft = sfreq[:,2] / float(n_sample)\n",
    "fs = sfreq[:,1].cumsum() / float(n_sample)\n",
    "ft = sfreq[:,2].cumsum() / float(n_sample)\n",
    "nd_std = np.sqrt(normdiscrete.stats(moments='v'))\n",
    "\n",
    "\n",
    "ind = gridint  # the x locations for the groups\n",
    "width = 0.35   # the width of the bars\n",
    "\n",
    "plt.figure()\n",
    "plt.subplot(111)\n",
    "rects1 = plt.bar(ind, ft, width, color='b')\n",
    "rects2 = plt.bar(ind+width, fs, width, color='r')\n",
    "normline = plt.plot(ind+width/2.0, stats.norm.cdf(ind+0.5,scale=nd_std),\n",
    "                    color='b')\n",
    "\n",
    "plt.ylabel('cdf')\n",
    "plt.title('Cumulative Frequency and CDF of normdiscrete')\n",
    "plt.xticks(ind+width, ind)\n",
    "plt.legend((rects1[0], rects2[0]), ('true', 'sample'))\n",
    "\n",
    "plt.show()"
   ]
  },
  {
   "cell_type": "markdown",
   "metadata": {},
   "source": [
    "Next, we can test, whether our sample was generated by our normdiscrete distribution. This also verifies whether the random numbers are generated correctly.\n",
    "\n",
    "The chisquare test requires that there are a minimum number of observations in each bin. We combine the tail bins into larger bins so that they contain enough observations."
   ]
  },
  {
   "cell_type": "code",
   "execution_count": 232,
   "metadata": {
    "collapsed": false
   },
   "outputs": [
    {
     "data": {
      "text/plain": [
       "'chisquare for normdiscrete: chi2 = 12.466 pvalue = 0.4090'"
      ]
     },
     "execution_count": 232,
     "metadata": {},
     "output_type": "execute_result"
    }
   ],
   "source": [
    "f2 = np.hstack([f[:5].sum(), f[5:-5], f[-5:].sum()])\n",
    "p2 = np.hstack([probs[:5].sum(), probs[5:-5], probs[-5:].sum()])\n",
    "ch2, pval = stats.chisquare(f2, p2*n_sample)\n",
    "\n",
    "'chisquare for normdiscrete: chi2 = %6.3f pvalue = %6.4f' % (ch2, pval)"
   ]
  },
  {
   "cell_type": "markdown",
   "metadata": {},
   "source": [
    "The pvalue in this case is high, so we can be quite confident that our random sample was actually generated by the distribution."
   ]
  },
  {
   "cell_type": "markdown",
   "metadata": {},
   "source": [
    "## Analysing One Sample\n",
    "First, we create some random variables. We set a seed so that in each run we get identical results to look at. As an example we take a sample from the Student t distribution:"
   ]
  },
  {
   "cell_type": "code",
   "execution_count": 234,
   "metadata": {
    "collapsed": true
   },
   "outputs": [],
   "source": [
    "np.random.seed(282629734)\n",
    "x = stats.t.rvs(10, size=1000)"
   ]
  },
  {
   "cell_type": "markdown",
   "metadata": {},
   "source": [
    "Here, we set the required shape parameter of the t distribution, which in statistics corresponds to the ***degrees of freedom, to 10***. Using size=1000 means that our sample consists of 1000 independently drawn (pseudo) random numbers. Since we did not specify the keyword arguments loc and scale, those are set to their default values zero and one.\n",
    "\n",
    "### Descriptive Statistics¶\n",
    "\n",
    "x is a numpy array, and we have direct access to all array methods, e.g."
   ]
  },
  {
   "cell_type": "code",
   "execution_count": 237,
   "metadata": {
    "collapsed": false
   },
   "outputs": [
    {
     "data": {
      "text/plain": [
       "(-3.7897557242248197, 5.2632773298071651)"
      ]
     },
     "execution_count": 237,
     "metadata": {},
     "output_type": "execute_result"
    }
   ],
   "source": [
    "x.min(), x.max()  # equivalent to np.max(x), np.min(x)"
   ]
  },
  {
   "cell_type": "code",
   "execution_count": 236,
   "metadata": {
    "collapsed": false
   },
   "outputs": [
    {
     "data": {
      "text/plain": [
       "(0.014061066398468422, 1.2889938620792849)"
      ]
     },
     "execution_count": 236,
     "metadata": {},
     "output_type": "execute_result"
    }
   ],
   "source": [
    "x.mean(), x.var() # equivalent to np.mean(x), np.var(x)"
   ]
  },
  {
   "cell_type": "markdown",
   "metadata": {},
   "source": [
    "How do the some sample properties compare to their theoretical counterparts? "
   ]
  },
  {
   "cell_type": "code",
   "execution_count": 238,
   "metadata": {
    "collapsed": false
   },
   "outputs": [
    {
     "data": {
      "text/plain": [
       "(array(0.0), array(1.25), array(0.0), array(1.0))"
      ]
     },
     "execution_count": 238,
     "metadata": {},
     "output_type": "execute_result"
    }
   ],
   "source": [
    "m, v, s, k = stats.t.stats(10, moments='mvsk')\n",
    "m, v, s, k"
   ]
  },
  {
   "cell_type": "code",
   "execution_count": 239,
   "metadata": {
    "collapsed": false
   },
   "outputs": [
    {
     "data": {
      "text/plain": [
       "(1000,\n",
       " (-3.7897557242248197, 5.2632773298071651),\n",
       " 0.014061066398468422,\n",
       " 1.2902841462255106,\n",
       " 0.21652778283120955,\n",
       " 1.055594041706331)"
      ]
     },
     "execution_count": 239,
     "metadata": {},
     "output_type": "execute_result"
    }
   ],
   "source": [
    "n, (smin, smax), sm, sv, ss, sk = stats.describe(x)\n",
    "n, (smin, smax), sm, sv, ss, sk"
   ]
  },
  {
   "cell_type": "code",
   "execution_count": 241,
   "metadata": {
    "collapsed": false
   },
   "outputs": [
    {
     "name": "stdout",
     "output_type": "stream",
     "text": [
      "distribution:\n",
      "mean = 0.0000, variance = 1.2500, skew = 0.0000, kurtosis = 1.0000\n",
      "sample:      \n",
      "mean = 0.0141, variance = 1.2903, skew = 0.2165, kurtosis = 1.0556\n"
     ]
    }
   ],
   "source": [
    "print('distribution:',)\n",
    "sstr = 'mean = %6.4f, variance = %6.4f, skew = %6.4f, kurtosis = %6.4f'\n",
    "print(sstr %(m, v, s ,k))\n",
    "\n",
    "print('sample:      ',)\n",
    "\n",
    "print(sstr %(sm, sv, ss, sk))"
   ]
  },
  {
   "cell_type": "markdown",
   "metadata": {},
   "source": [
    "Note: stats.describe uses the unbiased estimator for the variance, while np.var is the biased estimator.\n",
    "\n",
    "For our sample the sample statistics differ a by a small amount from their theoretical counterparts.\n",
    "\n"
   ]
  },
  {
   "cell_type": "markdown",
   "metadata": {},
   "source": [
    "### T-test and KS-test\n",
    "\n",
    "We can use the t-test to test whether the mean of our sample differs in a statistically significant way from the theoretical expectation."
   ]
  },
  {
   "cell_type": "code",
   "execution_count": 242,
   "metadata": {
    "collapsed": false
   },
   "outputs": [
    {
     "name": "stdout",
     "output_type": "stream",
     "text": [
      "t-statistic =  0.391 pvalue = 0.6955\n"
     ]
    }
   ],
   "source": [
    "print('t-statistic = %6.3f pvalue = %6.4f' %  stats.ttest_1samp(x, m))"
   ]
  },
  {
   "cell_type": "markdown",
   "metadata": {},
   "source": [
    "The pvalue is 0.7, this means that with an alpha error of, for example, 10%, we cannot reject the hypothesis that the sample mean is equal to zero, the expectation of the standard t-distribution.\n",
    "\n",
    "As an exercise, we can calculate our ttest also directly without using the provided function, which should give us the same answer, and so it does:"
   ]
  },
  {
   "cell_type": "code",
   "execution_count": 248,
   "metadata": {
    "collapsed": false
   },
   "outputs": [
    {
     "data": {
      "text/plain": [
       "0.39144935201466907"
      ]
     },
     "execution_count": 248,
     "metadata": {},
     "output_type": "execute_result"
    }
   ],
   "source": [
    "tt = (sm-m)/np.sqrt(sv/float(n))  # t-statistic for mean\n",
    "tt"
   ]
  },
  {
   "cell_type": "code",
   "execution_count": 249,
   "metadata": {
    "collapsed": false
   },
   "outputs": [
    {
     "name": "stdout",
     "output_type": "stream",
     "text": [
      "t-statistic =  0.391 pvalue = 0.6955\n"
     ]
    }
   ],
   "source": [
    "pval = stats.t.sf(np.abs(tt), n-1)*2  # two-sided pvalue = Prob(abs(t)>tt)\n",
    "print('t-statistic = %6.3f pvalue = %6.4f' % (tt, pval))"
   ]
  },
  {
   "cell_type": "markdown",
   "metadata": {},
   "source": [
    "The ***Kolmogorov-Smirnov test*** can be used to test the hypothesis that the sample comes from the standard t-distribution"
   ]
  },
  {
   "cell_type": "code",
   "execution_count": 250,
   "metadata": {
    "collapsed": false
   },
   "outputs": [
    {
     "name": "stdout",
     "output_type": "stream",
     "text": [
      "KS-statistic D =  0.016 pvalue = 0.9606\n"
     ]
    }
   ],
   "source": [
    "print('KS-statistic D = %6.3f pvalue = %6.4f' % stats.kstest(x, 't', (10,)))"
   ]
  },
  {
   "cell_type": "markdown",
   "metadata": {},
   "source": [
    "Again the p-value is high enough that we cannot reject the hypothesis that the random sample really is distributed according to the t-distribution. In real applications, we don’t know what the underlying distribution is. If we perform the Kolmogorov-Smirnov test of our sample against the standard normal distribution, then we also cannot reject the hypothesis that our sample was generated by the normal distribution given that in this example the p-value is almost 40%."
   ]
  },
  {
   "cell_type": "code",
   "execution_count": 251,
   "metadata": {
    "collapsed": false
   },
   "outputs": [
    {
     "name": "stdout",
     "output_type": "stream",
     "text": [
      "KS-statistic D =  0.028 pvalue = 0.3949\n"
     ]
    }
   ],
   "source": [
    "print('KS-statistic D = %6.3f pvalue = %6.4f' % stats.kstest(x,'norm'))"
   ]
  },
  {
   "cell_type": "markdown",
   "metadata": {},
   "source": [
    "However, the standard normal distribution has a variance of 1, while our sample has a variance of 1.29. If we standardize our sample and test it against the normal distribution, then the p-value is again large enough that we cannot reject the hypothesis that the sample came form the normal distribution."
   ]
  },
  {
   "cell_type": "code",
   "execution_count": 252,
   "metadata": {
    "collapsed": false
   },
   "outputs": [
    {
     "name": "stdout",
     "output_type": "stream",
     "text": [
      "KS-statistic D =  0.032 pvalue = 0.2402\n"
     ]
    }
   ],
   "source": [
    "d, pval = stats.kstest((x-x.mean())/x.std(), 'norm')\n",
    "print('KS-statistic D = %6.3f pvalue = %6.4f' % (d, pval))"
   ]
  },
  {
   "cell_type": "markdown",
   "metadata": {},
   "source": [
    "#### Note:\n",
    "The Kolmogorov-Smirnov test assumes that we test against a distribution with given parameters, since in the last case we estimated mean and variance, this assumption is violated, and the distribution of the test statistic on which the p-value is based, is not correct."
   ]
  },
  {
   "cell_type": "markdown",
   "metadata": {},
   "source": [
    "### Tails of the distribution\n",
    "\n",
    "Finally, we can check the upper tail of the distribution. We can use the percent point function ***ppf***, which is the inverse of the ***cdf*** function, to obtain the critical values, or, more directly, we can use the ***inverse of the survival function***"
   ]
  },
  {
   "cell_type": "code",
   "execution_count": 254,
   "metadata": {
    "collapsed": false
   },
   "outputs": [
    {
     "name": "stdout",
     "output_type": "stream",
     "text": [
      "critical values from ppf at 1%, 5% and 10%   2.7638   1.8125   1.3722\n",
      "critical values from isf at 1%, 5% and 10%   2.7638   1.8125   1.3722\n",
      "sample %-frequency at 1%, 5% and 10% tail   1.4000   5.8000  10.5000\n"
     ]
    }
   ],
   "source": [
    "crit01, crit05, crit10 = stats.t.ppf([1-0.01, 1-0.05, 1-0.10], 10)\n",
    "print('critical values from ppf at 1%%, 5%% and 10%% %8.4f %8.4f %8.4f'% (crit01, crit05, crit10))\n",
    "print('critical values from isf at 1%%, 5%% and 10%% %8.4f %8.4f %8.4f'% tuple(stats.t.isf([0.01,0.05,0.10],10)))\n",
    "\n",
    "freq01 = np.sum(x>crit01) / float(n) * 100\n",
    "freq05 = np.sum(x>crit05) / float(n) * 100\n",
    "freq10 = np.sum(x>crit10) / float(n) * 100\n",
    "print('sample %%-frequency at 1%%, 5%% and 10%% tail %8.4f %8.4f %8.4f'% (freq01, freq05, freq10))"
   ]
  },
  {
   "cell_type": "markdown",
   "metadata": {},
   "source": [
    "In all three cases, our sample has more weight in the top tail than the underlying distribution. We can briefly check a larger sample to see if we get a closer match. In this case the empirical frequency is quite close to the theoretical probability, but if we repeat this several times the fluctuations are still pretty large."
   ]
  },
  {
   "cell_type": "code",
   "execution_count": 263,
   "metadata": {
    "collapsed": false
   },
   "outputs": [
    {
     "name": "stdout",
     "output_type": "stream",
     "text": [
      "larger sample %-frequency at 5% tail   5.0300\n"
     ]
    }
   ],
   "source": [
    "freq05l = np.sum(stats.t.rvs(10, size=10000) > crit05) / 10000.0 * 100\n",
    "print('larger sample %%-frequency at 5%% tail %8.4f'% freq05l)"
   ]
  },
  {
   "cell_type": "markdown",
   "metadata": {},
   "source": [
    "We can also compare it with the tail of the normal distribution, which has less weight in the tails:"
   ]
  },
  {
   "cell_type": "code",
   "execution_count": 264,
   "metadata": {
    "collapsed": false
   },
   "outputs": [
    {
     "name": "stdout",
     "output_type": "stream",
     "text": [
      "tail prob. of normal at 1%, 5% and 10%   0.2857   3.4957   8.5003\n"
     ]
    }
   ],
   "source": [
    "print('tail prob. of normal at 1%%, 5%% and 10%% %8.4f %8.4f %8.4f'% \\\n",
    "      tuple(stats.norm.sf([crit01, crit05, crit10])*100))"
   ]
  },
  {
   "cell_type": "markdown",
   "metadata": {},
   "source": [
    "The ***chisquare*** test can be used to test, whether for a finite number of bins, the observed frequencies differ significantly from the probabilities of the hypothesized distribution."
   ]
  },
  {
   "cell_type": "code",
   "execution_count": 265,
   "metadata": {
    "collapsed": false
   },
   "outputs": [
    {
     "data": {
      "text/plain": [
       "array([       -inf, -2.76376946, -1.81246112, -1.37218364,  1.37218364,\n",
       "        1.81246112,  2.76376946,         inf])"
      ]
     },
     "execution_count": 265,
     "metadata": {},
     "output_type": "execute_result"
    }
   ],
   "source": [
    "quantiles = [0.0, 0.01, 0.05, 0.1, 1-0.10, 1-0.05, 1-0.01, 1.0]\n",
    "crit = stats.t.ppf(quantiles, 10)\n",
    "crit"
   ]
  },
  {
   "cell_type": "code",
   "execution_count": 266,
   "metadata": {
    "collapsed": false
   },
   "outputs": [
    {
     "name": "stdout",
     "output_type": "stream",
     "text": [
      "chisquare for t:      chi2 =   2.30 pvalue = 0.8901\n",
      "chisquare for normal: chi2 =  64.60 pvalue = 0.0000\n"
     ]
    }
   ],
   "source": [
    "n_sample = x.size\n",
    "freqcount = np.histogram(x, bins=crit)[0]\n",
    "tprob = np.diff(quantiles)\n",
    "nprob = np.diff(stats.norm.cdf(crit))\n",
    "tch, tpval = stats.chisquare(freqcount, tprob*n_sample)\n",
    "nch, npval = stats.chisquare(freqcount, nprob*n_sample)\n",
    "print('chisquare for t:      chi2 = %6.2f pvalue = %6.4f' % (tch, tpval))\n",
    "print('chisquare for normal: chi2 = %6.2f pvalue = %6.4f' % (nch, npval))"
   ]
  },
  {
   "cell_type": "markdown",
   "metadata": {},
   "source": [
    "We see that the standard normal distribution is clearly rejected while the standard t-distribution cannot be rejected. Since the variance of our sample differs from both standard distribution, we can again redo the test taking the estimate for scale and location into account.\n",
    "\n",
    "The ***fit*** method of the distributions can be used to estimate the parameters of the distribution, and the ***test*** is repeated using probabilities of the estimated distribution."
   ]
  },
  {
   "cell_type": "code",
   "execution_count": 267,
   "metadata": {
    "collapsed": false
   },
   "outputs": [
    {
     "name": "stdout",
     "output_type": "stream",
     "text": [
      "chisquare for t:      chi2 =   1.58 pvalue = 0.9542\n",
      "chisquare for normal: chi2 =  11.08 pvalue = 0.0858\n"
     ]
    }
   ],
   "source": [
    "tdof, tloc, tscale = stats.t.fit(x)\n",
    "nloc, nscale = stats.norm.fit(x)\n",
    "tprob = np.diff(stats.t.cdf(crit, tdof, loc=tloc, scale=tscale))\n",
    "nprob = np.diff(stats.norm.cdf(crit, loc=nloc, scale=nscale))\n",
    "tch, tpval = stats.chisquare(freqcount, tprob*n_sample)\n",
    "nch, npval = stats.chisquare(freqcount, nprob*n_sample)\n",
    "print('chisquare for t:      chi2 = %6.2f pvalue = %6.4f' % (tch, tpval))\n",
    "print('chisquare for normal: chi2 = %6.2f pvalue = %6.4f' % (nch, npval))"
   ]
  },
  {
   "cell_type": "markdown",
   "metadata": {},
   "source": [
    "Taking account of the estimated parameters, we can still reject the hypothesis that our sample came from a normal distribution (at the 5% level), but again, with a p-value of 0.95, we cannot reject the t distribution.\n",
    "\n",
    "\n",
    "### Special tests for normal distributions\n",
    "\n",
    "Since the normal distribution is the most common distribution in statistics, there are several additional functions available to test whether a sample could have been drawn from a normal distribution\n",
    "\n",
    "First we can test if ***skew and kurtosis*** of our sample differ significantly from those of a normal distribution:"
   ]
  },
  {
   "cell_type": "code",
   "execution_count": 269,
   "metadata": {
    "collapsed": false
   },
   "outputs": [
    {
     "name": "stdout",
     "output_type": "stream",
     "text": [
      "normal skewtest teststat =  2.785 pvalue = 0.0054\n",
      "normal kurtosistest teststat =  4.757 pvalue = 0.0000\n"
     ]
    }
   ],
   "source": [
    "print('normal skewtest teststat = %6.3f pvalue = %6.4f' % stats.skewtest(x))\n",
    "\n",
    "print('normal kurtosistest teststat = %6.3f pvalue = %6.4f' % stats.kurtosistest(x))"
   ]
  },
  {
   "cell_type": "markdown",
   "metadata": {},
   "source": [
    "These two tests are combined in the normality test"
   ]
  },
  {
   "cell_type": "code",
   "execution_count": 271,
   "metadata": {
    "collapsed": false
   },
   "outputs": [
    {
     "name": "stdout",
     "output_type": "stream",
     "text": [
      "normaltest teststat = 30.379 pvalue = 0.0000\n"
     ]
    }
   ],
   "source": [
    "print('normaltest teststat = %6.3f pvalue = %6.4f' % stats.normaltest(x))"
   ]
  },
  {
   "cell_type": "markdown",
   "metadata": {},
   "source": [
    "In all three tests the p-values are very low and we can reject the hypothesis that the our sample has skew and kurtosis of the normal distribution.\n",
    "\n",
    "Since skew and kurtosis of our sample are based on central moments, we get exactly the same results if we test the standardized sample:"
   ]
  },
  {
   "cell_type": "code",
   "execution_count": 272,
   "metadata": {
    "collapsed": false
   },
   "outputs": [
    {
     "name": "stdout",
     "output_type": "stream",
     "text": [
      "normaltest teststat = 30.379 pvalue = 0.0000\n"
     ]
    }
   ],
   "source": [
    "print('normaltest teststat = %6.3f pvalue = %6.4f' % \\\n",
    "                     stats.normaltest((x-x.mean())/x.std()))"
   ]
  },
  {
   "cell_type": "markdown",
   "metadata": {},
   "source": [
    "Because normality is rejected so strongly, we can check whether the normaltest gives reasonable results for other cases:"
   ]
  },
  {
   "cell_type": "code",
   "execution_count": 276,
   "metadata": {
    "collapsed": false
   },
   "outputs": [
    {
     "name": "stdout",
     "output_type": "stream",
     "text": [
      "normaltest teststat =  6.485 pvalue = 0.0391\n",
      "normaltest teststat =  3.695 pvalue = 0.1576\n"
     ]
    }
   ],
   "source": [
    "print('normaltest teststat = %6.3f pvalue = %6.4f' %\n",
    "             stats.normaltest(stats.t.rvs(10, size=100)))\n",
    "\n",
    "print('normaltest teststat = %6.3f pvalue = %6.4f' %\n",
    "             stats.normaltest(stats.norm.rvs(size=1000)))"
   ]
  },
  {
   "cell_type": "markdown",
   "metadata": {},
   "source": [
    "When testing for normality of a small sample of t-distributed observations and a large sample of normal distributed observation, then in neither case can we reject the null hypothesis that the sample comes from a normal distribution. In the first case this is because the test is not powerful enough to distinguish a t and a normally distributed random variable in a small sample."
   ]
  },
  {
   "cell_type": "markdown",
   "metadata": {},
   "source": [
    "## Comparing two samples\n",
    "In the following, we are given two samples, which can come either from the same or from different distribution, and we want to test whether these samples have the same statistical properties.\n",
    "\n",
    "### Comparing means\n",
    "\n",
    "Test with sample with identical means:"
   ]
  },
  {
   "cell_type": "code",
   "execution_count": 281,
   "metadata": {
    "collapsed": false
   },
   "outputs": [
    {
     "data": {
      "text/plain": [
       "Ttest_indResult(statistic=0.058356174388170895, pvalue=0.95347660505947895)"
      ]
     },
     "execution_count": 281,
     "metadata": {},
     "output_type": "execute_result"
    }
   ],
   "source": [
    "rvs1 = stats.norm.rvs(loc=5, scale=10, size=500)\n",
    "rvs2 = stats.norm.rvs(loc=5, scale=10, size=500)\n",
    "stats.ttest_ind(rvs1, rvs2)"
   ]
  },
  {
   "cell_type": "markdown",
   "metadata": {},
   "source": [
    "Test with sample with different means:"
   ]
  },
  {
   "cell_type": "code",
   "execution_count": 282,
   "metadata": {
    "collapsed": false
   },
   "outputs": [
    {
     "data": {
      "text/plain": [
       "Ttest_indResult(statistic=-4.3727637998582747, pvalue=1.3555192290261904e-05)"
      ]
     },
     "execution_count": 282,
     "metadata": {},
     "output_type": "execute_result"
    }
   ],
   "source": [
    "rvs3 = stats.norm.rvs(loc=8, scale=10, size=500) \n",
    "stats.ttest_ind(rvs1, rvs3)"
   ]
  },
  {
   "cell_type": "markdown",
   "metadata": {},
   "source": [
    "### Kolmogorov-Smirnov test for two samples ks_2samp\n",
    "\n",
    "For the example where both samples are drawn from the same distribution, we cannot reject the null hypothesis since the pvalue is high"
   ]
  },
  {
   "cell_type": "code",
   "execution_count": 283,
   "metadata": {
    "collapsed": false
   },
   "outputs": [
    {
     "data": {
      "text/plain": [
       "Ks_2sampResult(statistic=0.032000000000000028, pvalue=0.95716692351029753)"
      ]
     },
     "execution_count": 283,
     "metadata": {},
     "output_type": "execute_result"
    }
   ],
   "source": [
    "stats.ks_2samp(rvs1, rvs2)"
   ]
  },
  {
   "cell_type": "markdown",
   "metadata": {},
   "source": [
    "In the second example, with different location, i.e. means, we can reject the null hypothesis since the pvalue is below 1%|"
   ]
  },
  {
   "cell_type": "code",
   "execution_count": 285,
   "metadata": {
    "collapsed": false
   },
   "outputs": [
    {
     "data": {
      "text/plain": [
       "Ks_2sampResult(statistic=0.14200000000000002, pvalue=7.1101011867175654e-05)"
      ]
     },
     "execution_count": 285,
     "metadata": {},
     "output_type": "execute_result"
    }
   ],
   "source": [
    "stats.ks_2samp(rvs1, rvs3)"
   ]
  },
  {
   "cell_type": "markdown",
   "metadata": {},
   "source": [
    "## Kernel Density Estimation\n",
    "A common task in statistics is to estimate the ***probability density function (PDF)*** of a random variable from a set of data samples. This task is called ***density estimation***. The most well-known tool to do this is the ***histogram***. A histogram is a useful tool for visualization (mainly because everyone understands it), but doesn’t use the available data very efficiently. ***Kernel density estimation (KDE)*** is a more efficient tool for the same task. The ***gaussian_kde estimator*** can be used to estimate the PDF of univariate as well as multivariate data. It works best if the data is unimodal.\n",
    "\n",
    "### Univariate estimation\n",
    "\n",
    "We start with a minimal amount of data in order to see how gaussian_kde works, and what the different options for bandwidth selection do. The data sampled from the PDF is show as blue dashes at the bottom of the figure (this is called a ***rug plot***):"
   ]
  },
  {
   "cell_type": "code",
   "execution_count": 299,
   "metadata": {
    "collapsed": false
   },
   "outputs": [
    {
     "data": {
      "image/png": "[encoded data removed]",
      "text/plain": [
       "<matplotlib.figure.Figure at 0x7fcd12f52710>"
      ]
     },
     "metadata": {},
     "output_type": "display_data"
    }
   ],
   "source": [
    "from scipy import stats\n",
    "import matplotlib.pyplot as plt\n",
    "\n",
    "x1 = np.array([-7, -5, 1, 4, 5], dtype=np.float)\n",
    "kde1 = stats.gaussian_kde(x1)\n",
    "kde2 = stats.gaussian_kde(x1, bw_method='silverman')\n",
    "\n",
    "fig = plt.figure()\n",
    "ax = fig.add_subplot(111)\n",
    "\n",
    "ax.plot(x1, np.zeros(x1.shape), 'b+', ms=20)  # rug plot\n",
    "x_eval = np.linspace(-10, 10, num=200)\n",
    "ax.plot(x_eval, kde1(x_eval), 'k-', label=\"Scott's Rule\")\n",
    "ax.plot(x_eval, kde2(x_eval), 'r-', label=\"Silverman's Rule\")\n",
    "plt.legend()\n",
    "\n",
    "plt.show()"
   ]
  },
  {
   "cell_type": "markdown",
   "metadata": {},
   "source": [
    "We see that there is very little difference between Scott’s Rule and Silverman’s Rule, and that the bandwidth selection with a limited amount of data is probably a bit too wide. We can define our own bandwidth function to get a less smoothed out result."
   ]
  },
  {
   "cell_type": "code",
   "execution_count": 301,
   "metadata": {
    "collapsed": false
   },
   "outputs": [
    {
     "data": {
      "image/png": "[encoded data removed]",
      "text/plain": [
       "<matplotlib.figure.Figure at 0x7fcd12f22be0>"
      ]
     },
     "metadata": {},
     "output_type": "display_data"
    }
   ],
   "source": [
    "x1 = np.array([-7, -5, 1, 4, 5], dtype=float)\n",
    "x_eval = np.linspace(-10, 10, num=200)\n",
    "kde1 = stats.gaussian_kde(x1)\n",
    "kde2 = stats.gaussian_kde(x1, bw_method='silverman')\n",
    "\n",
    "def my_kde_bandwidth(obj, fac=1./5):\n",
    "    \"\"\"We use Scott's Rule, multiplied by a constant factor.\"\"\"\n",
    "    return np.power(obj.n, -1./(obj.d+4)) * fac\n",
    "\n",
    "fig = plt.figure()\n",
    "ax = fig.add_subplot(111)\n",
    "\n",
    "ax.plot(x1, np.zeros(x1.shape), 'b+', ms=20)  # rug plot\n",
    "\n",
    "kde3 = stats.gaussian_kde(x1, bw_method=my_kde_bandwidth)\n",
    "ax.plot(x_eval, kde3(x_eval), 'g-', label=\"With smaller BW\")\n",
    "\n",
    "plt.show()"
   ]
  },
  {
   "cell_type": "markdown",
   "metadata": {},
   "source": [
    "We see that if we set bandwidth to be very narrow, the obtained estimate for the probability density function (PDF) is simply the ***sum of Gaussians*** around each data point.\n",
    "\n",
    "We now take a more realistic example, and look at the difference between the two available bandwidth selection rules. Those rules are known to work well for (close to) normal distributions, but even for unimodal distributions that are quite strongly non-normal they work reasonably well. As a non-normal distribution we take a Student’s T distribution with 5 degrees of freedom."
   ]
  },
  {
   "cell_type": "code",
   "execution_count": 302,
   "metadata": {
    "collapsed": false
   },
   "outputs": [
    {
     "data": {
      "image/png": "[encoded data removed]",
      "text/plain": [
       "<matplotlib.figure.Figure at 0x7fcd12f22f60>"
      ]
     },
     "metadata": {},
     "output_type": "display_data"
    }
   ],
   "source": [
    "import numpy as np\n",
    "import matplotlib.pyplot as plt\n",
    "from scipy import stats\n",
    "\n",
    "\n",
    "np.random.seed(12456)\n",
    "\n",
    "# random data, normal distribution\n",
    "x1 = np.random.normal(size=200)  \n",
    "xs = np.linspace(x1.min()-1, x1.max()+1, 200)\n",
    "\n",
    "kde1 = stats.gaussian_kde(x1)\n",
    "kde2 = stats.gaussian_kde(x1, bw_method='silverman')\n",
    "\n",
    "fig = plt.figure(figsize=(8, 6))\n",
    "\n",
    "ax1 = fig.add_subplot(211)\n",
    "ax1.plot(x1, np.zeros(x1.shape), 'b+', ms=12)  # rug plot\n",
    "ax1.plot(xs, kde1(xs), 'k-', label=\"Scott's Rule\")\n",
    "ax1.plot(xs, kde2(xs), 'b-', label=\"Silverman's Rule\")\n",
    "ax1.plot(xs, stats.norm.pdf(xs), 'r--', label=\"True PDF\")\n",
    "\n",
    "ax1.set_xlabel('x')\n",
    "ax1.set_ylabel('Density')\n",
    "ax1.set_title(\"Normal (top) and Student's T$_{df=5}$ (bottom) distributions\")\n",
    "ax1.legend(loc=1)\n",
    "\n",
    "\n",
    "# random data, T distribution\n",
    "x2 = stats.t.rvs(5, size=200)  \n",
    "xs = np.linspace(x2.min() - 1, x2.max() + 1, 200)\n",
    "\n",
    "kde3 = stats.gaussian_kde(x2)\n",
    "kde4 = stats.gaussian_kde(x2, bw_method='silverman')\n",
    "\n",
    "ax2 = fig.add_subplot(212)\n",
    "ax2.plot(x2, np.zeros(x2.shape), 'b+', ms=12)  # rug plot\n",
    "ax2.plot(xs, kde3(xs), 'k-', label=\"Scott's Rule\")\n",
    "ax2.plot(xs, kde4(xs), 'b-', label=\"Silverman's Rule\")\n",
    "ax2.plot(xs, stats.t.pdf(xs, 5), 'r--', label=\"True PDF\")\n",
    "\n",
    "ax2.set_xlabel('x')\n",
    "ax2.set_ylabel('Density')\n",
    "\n",
    "plt.show()"
   ]
  },
  {
   "cell_type": "markdown",
   "metadata": {},
   "source": [
    "We now take a look at a ***bimodal distribution*** with one wider and one narrower Gaussian feature. We expect that this will be a more difficult density to approximate, due to the different bandwidths required to accurately resolve each feature."
   ]
  },
  {
   "cell_type": "code",
   "execution_count": 303,
   "metadata": {
    "collapsed": false
   },
   "outputs": [
    {
     "data": {
      "image/png": "[encoded data removed]",
      "text/plain": [
       "<matplotlib.figure.Figure at 0x7fcd13427240>"
      ]
     },
     "metadata": {},
     "output_type": "display_data"
    }
   ],
   "source": [
    "from functools import partial\n",
    "from scipy import stats\n",
    "\n",
    "\n",
    "def my_kde_bandwidth(obj, fac=1./5):\n",
    "    \"\"\"We use Scott's Rule, multiplied by a constant factor.\"\"\"\n",
    "    return np.power(obj.n, -1./(obj.d+4)) * fac\n",
    "\n",
    "\n",
    "loc1, scale1, size1 = (-2, 1, 175)\n",
    "loc2, scale2, size2 = (2, 0.2, 50)\n",
    "x2 = np.concatenate([np.random.normal(loc=loc1, scale=scale1, size=size1),\n",
    "                     np.random.normal(loc=loc2, scale=scale2, size=size2)])\n",
    "\n",
    "x_eval = np.linspace(x2.min() - 1, x2.max() + 1, 500)\n",
    "\n",
    "kde = stats.gaussian_kde(x2)\n",
    "kde2 = stats.gaussian_kde(x2, bw_method='silverman')\n",
    "kde3 = stats.gaussian_kde(x2, bw_method=partial(my_kde_bandwidth, fac=0.2))\n",
    "kde4 = stats.gaussian_kde(x2, bw_method=partial(my_kde_bandwidth, fac=0.5))\n",
    "\n",
    "pdf = stats.norm.pdf\n",
    "bimodal_pdf = pdf(x_eval, loc=loc1, scale=scale1) * float(size1) / x2.size + \\\n",
    "              pdf(x_eval, loc=loc2, scale=scale2) * float(size2) / x2.size\n",
    "\n",
    "fig = plt.figure(figsize=(8, 6))\n",
    "ax = fig.add_subplot(111)\n",
    "\n",
    "ax.plot(x2, np.zeros(x2.shape), 'b+', ms=12)  # rug plot\n",
    "ax.plot(x_eval, kde(x_eval), 'k-', label=\"Scott's Rule\")\n",
    "ax.plot(x_eval, kde2(x_eval), 'b-', label=\"Silverman's Rule\")\n",
    "ax.plot(x_eval, kde3(x_eval), 'g-', label=\"Scott * 0.2\")\n",
    "ax.plot(x_eval, kde4(x_eval), 'c-', label=\"Scott * 0.5\")\n",
    "ax.plot(x_eval, bimodal_pdf, 'r--', label=\"Actual PDF\")\n",
    "\n",
    "ax.set_xlim([x_eval.min(), x_eval.max()])\n",
    "ax.legend(loc=2)\n",
    "ax.set_xlabel('x')\n",
    "ax.set_ylabel('Density')\n",
    "\n",
    "plt.show()"
   ]
  },
  {
   "cell_type": "markdown",
   "metadata": {},
   "source": [
    "As expected, the KDE is not as close to the true PDF as we would like due to the different characteristic size of the two features of the bimodal distribution. By halving the default bandwidth (Scott * 0.5) we can do somewhat better, while using a factor 5 smaller bandwidth than the default doesn’t smooth enough. What we really need though in this case is a non-uniform (adaptive) bandwidth.\n",
    "\n",
    "### Multivariate estimation\n",
    "\n",
    "With gaussian_kde we can perform multivariate as well as univariate estimation. We demonstrate the ***bivariate*** case. First we generate some random data with a model in which the two variates are correlated."
   ]
  },
  {
   "cell_type": "code",
   "execution_count": 304,
   "metadata": {
    "collapsed": false
   },
   "outputs": [
    {
     "data": {
      "image/png": "[encoded data removed]",
      "text/plain": [
       "<matplotlib.figure.Figure at 0x7fcd12e91400>"
      ]
     },
     "metadata": {},
     "output_type": "display_data"
    }
   ],
   "source": [
    "import numpy as np\n",
    "from scipy import stats\n",
    "import matplotlib.pyplot as plt\n",
    "\n",
    "\n",
    "def measure(n):\n",
    "    \"\"\"Measurement model, return two coupled measurements.\"\"\"\n",
    "    m1 = np.random.normal(size=n)\n",
    "    m2 = np.random.normal(scale=0.5, size=n)\n",
    "    return m1+m2, m1-m2\n",
    "\n",
    "m1, m2 = measure(2000)\n",
    "xmin = m1.min()\n",
    "xmax = m1.max()\n",
    "ymin = m2.min()\n",
    "ymax = m2.max()\n",
    "\n",
    "# Then we apply the KDE to the data:\n",
    "\n",
    "X, Y = np.mgrid[xmin:xmax:100j, ymin:ymax:100j]\n",
    "positions = np.vstack([X.ravel(), Y.ravel()])\n",
    "values = np.vstack([m1, m2])\n",
    "\n",
    "kernel = stats.gaussian_kde(values)\n",
    "Z = np.reshape(kernel.evaluate(positions).T, X.shape)\n",
    "\n",
    "# Finally we plot the estimated bivariate distribution as a colormap, \n",
    "# and plot the individual data points on top.\n",
    "\n",
    "fig = plt.figure(figsize=(8, 6))\n",
    "ax = fig.add_subplot(111)\n",
    "\n",
    "ax.imshow(np.rot90(Z), cmap=plt.cm.gist_earth_r,\n",
    "          extent=[xmin, xmax, ymin, ymax])\n",
    "\n",
    "ax.plot(m1, m2, 'k.', markersize=2)\n",
    "ax.set_xlim([xmin, xmax])\n",
    "ax.set_ylim([ymin, ymax])\n",
    "\n",
    "plt.show()"
   ]
  }
 ],
 "metadata": {
  "kernelspec": {
   "display_name": "Python 3",
   "language": "python",
   "name": "python3"
  },
  "language_info": {
   "codemirror_mode": {
    "name": "ipython",
    "version": 3
   },
   "file_extension": ".py",
   "mimetype": "text/x-python",
   "name": "python",
   "nbconvert_exporter": "python",
   "pygments_lexer": "ipython3",
   "version": "3.6.0"
  }
 },
 "nbformat": 4,
 "nbformat_minor": 2
}
