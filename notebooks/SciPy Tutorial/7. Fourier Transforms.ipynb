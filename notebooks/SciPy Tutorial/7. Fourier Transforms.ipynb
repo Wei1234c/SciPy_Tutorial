{
 "cells": [
  {
   "cell_type": "markdown",
   "metadata": {},
   "source": [
    "# 7. Fourier Transforms\n",
    "https://docs.scipy.org/doc/scipy/reference/tutorial/index.html   \n",
    "https://docs.scipy.org/doc/scipy/reference/tutorial/fftpack.html"
   ]
  },
  {
   "cell_type": "code",
   "execution_count": 3,
   "metadata": {
    "collapsed": false
   },
   "outputs": [
    {
     "name": "stdout",
     "output_type": "stream",
     "text": [
      "Populating the interactive namespace from numpy and matplotlib\n"
     ]
    }
   ],
   "source": [
    "%pylab inline"
   ]
  },
  {
   "cell_type": "markdown",
   "metadata": {
    "collapsed": true
   },
   "source": [
    "Fourier analysis is a method for expressing a function as a sum of periodic components, and for recovering the signal from those components. When both the function and its Fourier transform are replaced with discretized counterparts, it is called the discrete Fourier transform (DFT). The DFT has become a mainstay of numerical computing in part because of a very fast algorithm for computing it, called the Fast Fourier Transform (FFT), which was known to Gauss (1805) and was brought to light in its current form by Cooley and Tukey [CT65]. Press et al. [NR07] provide an accessible introduction to Fourier analysis and its applications."
   ]
  },
  {
   "cell_type": "markdown",
   "metadata": {},
   "source": [
    "## Fast Fourier transforms\n",
    "### One dimensional discrete Fourier transforms\n",
    "\n",
    "The FFT y[k] of length N of the length-N sequence x[n] is defined as\n",
    "> $y[k] = \\sum_{n=0}^{N-1} e^{-2 \\pi j \\frac{k n}{N} } x[n] \\, ,$\n",
    "\n",
    "and the inverse transform is defined as follows\n",
    "> $x[n] = \\frac{1}{N} \\sum_{k=0}^{N-1} e^{2 \\pi j \\frac{k n}{N} } y[k] \\, .$\n",
    "\n",
    "These transforms can be calculated by means of fft and ifft, respectively as shown in the following example."
   ]
  },
  {
   "cell_type": "code",
   "execution_count": 4,
   "metadata": {
    "collapsed": false
   },
   "outputs": [
    {
     "data": {
      "text/plain": [
       "array([ 4.50000000+0.j        ,  2.08155948-1.65109876j,\n",
       "       -1.83155948+1.60822041j, -1.83155948-1.60822041j,\n",
       "        2.08155948+1.65109876j])"
      ]
     },
     "execution_count": 4,
     "metadata": {},
     "output_type": "execute_result"
    }
   ],
   "source": [
    "from scipy.fftpack import fft, ifft\n",
    "x = np.array([1.0, 2.0, 1.0, -1.0, 1.5])\n",
    "y = fft(x)\n",
    "y"
   ]
  },
  {
   "cell_type": "code",
   "execution_count": 5,
   "metadata": {
    "collapsed": false
   },
   "outputs": [
    {
     "data": {
      "text/plain": [
       "array([ 1.0+0.j,  2.0+0.j,  1.0+0.j, -1.0+0.j,  1.5+0.j])"
      ]
     },
     "execution_count": 5,
     "metadata": {},
     "output_type": "execute_result"
    }
   ],
   "source": [
    "yinv = ifft(y)\n",
    "yinv"
   ]
  },
  {
   "cell_type": "markdown",
   "metadata": {},
   "source": [
    "From the definition of the FFT it can be seen that\n",
    "> $y[0] = \\sum_{n=0}^{N-1} x[n] \\, .$\n",
    "\n",
    "In the example"
   ]
  },
  {
   "cell_type": "code",
   "execution_count": 6,
   "metadata": {
    "collapsed": false
   },
   "outputs": [
    {
     "data": {
      "text/plain": [
       "4.5"
      ]
     },
     "execution_count": 6,
     "metadata": {},
     "output_type": "execute_result"
    }
   ],
   "source": [
    "np.sum(x)"
   ]
  },
  {
   "cell_type": "markdown",
   "metadata": {},
   "source": [
    "which corresponds to y[0]y[0]. For N even, the elements y[1]...y[N/2−1] contain the positive-frequency terms, and the elements y[N/2]...y[N−1]y[N/2]...y[N−1] contain the negative-frequency terms, in order of decreasingly negative frequency. For N odd, the elements y[1]...y[(N−1)/2] contain the positive- frequency terms, and the elements y[(N+1)/2]...y[N−1] contain the negative- frequency terms, in order of decreasingly negative frequency.\n",
    "\n",
    "In case the sequence x is real-valued, the values of y[n] for positive frequencies is the conjugate of the values y[n] for negative frequencies (because the spectrum is symmetric). Typically, only the FFT corresponding to positive frequencies is plotted.\n",
    "\n",
    "The example plots the FFT of the sum of two sines."
   ]
  },
  {
   "cell_type": "code",
   "execution_count": 18,
   "metadata": {
    "collapsed": false
   },
   "outputs": [
    {
     "data": {
      "image/png": "[encoded data removed]",
      "text/plain": [
       "<matplotlib.figure.Figure at 0x7f2512dec630>"
      ]
     },
     "metadata": {},
     "output_type": "display_data"
    }
   ],
   "source": [
    "from scipy.fftpack import fft\n",
    "# Number of sample points\n",
    "N = 600\n",
    "# sample spacing\n",
    "T = 1.0 / 800.0\n",
    "x = np.linspace(0.0, N*T, N)\n",
    "y = np.sin(50.0 * 2.0*np.pi*x) + 0.5*np.sin(80.0 * 2.0*np.pi*x)\n",
    "\n",
    "yf = fft(y)\n",
    "xf = np.linspace(0.0, 0.5*(1./T), N//2)\n",
    "\n",
    "plt.plot(xf, 2.0/N * np.abs(yf[0:N//2]))\n",
    "plt.grid()\n",
    "plt.show()"
   ]
  },
  {
   "cell_type": "markdown",
   "metadata": {},
   "source": [
    "The FFT input signal is inherently truncated. This truncation can be modelled as multiplication of an infinite signal with a rectangular window function. In the spectral domain this multiplication becomes convolution of the signal spectrum with the window function spectrum, being of form sin(x)/x. This convolution is the cause of an effect called ***spectral leakage*** (see [WPW]). Windowing the signal with a dedicated window function helps mitigate spectral leakage. The example below uses a ***Blackman window*** from scipy.signal and shows the effect of windowing (the zero component of the FFT has been truncated for illustrative purposes)."
   ]
  },
  {
   "cell_type": "code",
   "execution_count": 28,
   "metadata": {
    "collapsed": false
   },
   "outputs": [
    {
     "data": {
      "image/png": "[encoded data removed]",
      "text/plain": [
       "<matplotlib.figure.Figure at 0x7f2512de64e0>"
      ]
     },
     "metadata": {},
     "output_type": "display_data"
    }
   ],
   "source": [
    "from scipy.fftpack import fft\n",
    "# Number of sample points\n",
    "N = 600\n",
    "# sample spacing\n",
    "T = 1.0 / 800.0\n",
    "x = np.linspace(0.0, N*T, N)\n",
    "y = np.sin(50.0 * 2.0*np.pi*x) + 0.5*np.sin(80.0 * 2.0*np.pi*x)\n",
    "yf = fft(y)\n",
    "\n",
    "from scipy.signal import blackman\n",
    "w = blackman(N)\n",
    "ywf = fft(y*w)\n",
    "xf = np.linspace(0.0, 1.0/(2.0*T), N/2)\n",
    "\n",
    "plt.semilogy(xf[1:N//2], 2.0/N * np.abs(yf[1:N//2]), '-b')\n",
    "plt.semilogy(xf[1:N//2], 2.0/N * np.abs(ywf[1:N//2]), '-r')\n",
    "plt.legend(['FFT', 'FFT w. window'])\n",
    "plt.grid()\n",
    "plt.show()"
   ]
  },
  {
   "cell_type": "markdown",
   "metadata": {},
   "source": [
    "In case the sequence x is complex-valued, the spectrum is no longer symmetric. To simplify working wit the FFT functions, scipy provides the following two helper functions.\n",
    "\n",
    "The function fftfreq returns the FFT sample frequency points."
   ]
  },
  {
   "cell_type": "code",
   "execution_count": 36,
   "metadata": {
    "collapsed": false
   },
   "outputs": [
    {
     "data": {
      "text/plain": [
       "array([ 0.,  1.,  2.,  3., -4., -3., -2., -1.])"
      ]
     },
     "execution_count": 36,
     "metadata": {},
     "output_type": "execute_result"
    }
   ],
   "source": [
    "from scipy.fftpack import fftfreq\n",
    "freq = fftfreq(8, 0.125)\n",
    "freq"
   ]
  },
  {
   "cell_type": "markdown",
   "metadata": {},
   "source": [
    "In a similar spirit, the function fftshift allows swapping the lower and upper halves of a vector, so that it becomes suitable for display."
   ]
  },
  {
   "cell_type": "code",
   "execution_count": 32,
   "metadata": {
    "collapsed": false
   },
   "outputs": [
    {
     "data": {
      "text/plain": [
       "array([4, 5, 6, 7, 0, 1, 2, 3])"
      ]
     },
     "execution_count": 32,
     "metadata": {},
     "output_type": "execute_result"
    }
   ],
   "source": [
    "from scipy.fftpack import fftshift\n",
    "x = np.arange(8)\n",
    "fftshift(x)"
   ]
  },
  {
   "cell_type": "markdown",
   "metadata": {},
   "source": [
    "The example below plots the FFT of two complex exponentials; note the asymmetric spectrum."
   ]
  },
  {
   "cell_type": "code",
   "execution_count": 34,
   "metadata": {
    "collapsed": false
   },
   "outputs": [
    {
     "data": {
      "image/png": "[encoded data removed]",
      "text/plain": [
       "<matplotlib.figure.Figure at 0x7f2512dd3ba8>"
      ]
     },
     "metadata": {},
     "output_type": "display_data"
    }
   ],
   "source": [
    "from scipy.fftpack import fft, fftfreq, fftshift\n",
    "# number of signal points\n",
    "N = 600\n",
    "# sample spacing\n",
    "T = 1.0 / 800.0\n",
    "x = np.linspace(0.0, N*T, N)\n",
    "y = np.exp(50.0 * 1.j * 2.0*np.pi*x) + 0.5*np.exp(-80.0 * 1.j * 2.0*np.pi*x)\n",
    "yf = fft(y)\n",
    "xf = fftfreq(N, T)\n",
    "xf = fftshift(xf)\n",
    "yplot = fftshift(yf)\n",
    "import matplotlib.pyplot as plt\n",
    "plt.plot(xf, 1.0/N * np.abs(yplot))\n",
    "plt.grid()\n",
    "plt.show()"
   ]
  },
  {
   "cell_type": "markdown",
   "metadata": {},
   "source": [
    "The function ***rfft*** calculates the FFT of a real sequence and outputs the FFT coefficients y[n] with separate real and imaginary parts.  \n",
    "\n",
    "In case of N being even:   \n",
    "$[y[0], Re(y[1]), Im(y[1]),..., Re(y[N/2])]$;   \n",
    "\n",
    "in case N being odd:  \n",
    "$[y[0], Re(y[1]),Im(y[1]),..., Re(y[N/2]),\n",
    "Im(y[N/2])]$\n",
    "\n",
    "The corresponding function ***irfft*** calculates the IFFT of the FFT coefficients with this special ordering."
   ]
  },
  {
   "cell_type": "code",
   "execution_count": 38,
   "metadata": {
    "collapsed": false
   },
   "outputs": [
    {
     "data": {
      "text/plain": [
       "array([ 5.50+0.j        ,  2.25-0.4330127j , -2.75-1.29903811j,\n",
       "        1.50+0.j        , -2.75+1.29903811j,  2.25+0.4330127j ])"
      ]
     },
     "execution_count": 38,
     "metadata": {},
     "output_type": "execute_result"
    }
   ],
   "source": [
    "from scipy.fftpack import fft, rfft, irfft\n",
    "x = np.array([1.0, 2.0, 1.0, -1.0, 1.5, 1.0])\n",
    "fft(x)"
   ]
  },
  {
   "cell_type": "code",
   "execution_count": 39,
   "metadata": {
    "collapsed": false
   },
   "outputs": [
    {
     "data": {
      "text/plain": [
       "array([ 5.5       ,  2.25      , -0.4330127 , -2.75      , -1.29903811,\n",
       "        1.5       ])"
      ]
     },
     "execution_count": 39,
     "metadata": {},
     "output_type": "execute_result"
    }
   ],
   "source": [
    "yr = rfft(x)\n",
    "yr"
   ]
  },
  {
   "cell_type": "code",
   "execution_count": 40,
   "metadata": {
    "collapsed": false
   },
   "outputs": [
    {
     "data": {
      "text/plain": [
       "array([ 1. ,  2. ,  1. , -1. ,  1.5,  1. ])"
      ]
     },
     "execution_count": 40,
     "metadata": {},
     "output_type": "execute_result"
    }
   ],
   "source": [
    "irfft(yr)"
   ]
  },
  {
   "cell_type": "code",
   "execution_count": 41,
   "metadata": {
    "collapsed": false
   },
   "outputs": [
    {
     "data": {
      "text/plain": [
       "array([ 4.50000000+0.j        ,  2.08155948-1.65109876j,\n",
       "       -1.83155948+1.60822041j, -1.83155948-1.60822041j,\n",
       "        2.08155948+1.65109876j])"
      ]
     },
     "execution_count": 41,
     "metadata": {},
     "output_type": "execute_result"
    }
   ],
   "source": [
    "x = np.array([1.0, 2.0, 1.0, -1.0, 1.5])\n",
    "fft(x)"
   ]
  },
  {
   "cell_type": "code",
   "execution_count": 42,
   "metadata": {
    "collapsed": false
   },
   "outputs": [
    {
     "data": {
      "text/plain": [
       "array([ 4.5       ,  2.08155948, -1.65109876, -1.83155948,  1.60822041])"
      ]
     },
     "execution_count": 42,
     "metadata": {},
     "output_type": "execute_result"
    }
   ],
   "source": [
    "yr = rfft(x)\n",
    "yr"
   ]
  },
  {
   "cell_type": "markdown",
   "metadata": {},
   "source": [
    "### Two and n-dimensional discrete Fourier transforms\n",
    "\n",
    "The functions ***fft2 and ifft2*** provide 2-dimensional FFT, and IFFT, respectively. Similar, ***fftn and ifftn*** provide n-dimensional FFT, and IFFT, respectively.\n",
    "\n",
    "The example below demonstrates a 2-dimensional IFFT and plots the resulting (2-dimensional) time-domain signals."
   ]
  },
  {
   "cell_type": "code",
   "execution_count": 43,
   "metadata": {
    "collapsed": false
   },
   "outputs": [
    {
     "data": {
      "image/png": "[encoded data removed]",
      "text/plain": [
       "<matplotlib.figure.Figure at 0x7f250a7044e0>"
      ]
     },
     "metadata": {},
     "output_type": "display_data"
    }
   ],
   "source": [
    "from scipy.fftpack import ifftn\n",
    "import matplotlib.cm as cm\n",
    "\n",
    "N = 30\n",
    "f, ((ax1, ax2, ax3), (ax4, ax5, ax6)) = plt.subplots(2, 3, sharex='col', sharey='row')\n",
    "\n",
    "xf = np.zeros((N,N))\n",
    "xf[0, 5] = 1\n",
    "xf[0, N-5] = 1\n",
    "Z = ifftn(xf)\n",
    "ax1.imshow(xf, cmap=cm.Reds)\n",
    "ax4.imshow(np.real(Z), cmap=cm.gray)\n",
    "\n",
    "xf = np.zeros((N, N))\n",
    "xf[5, 0] = 1\n",
    "xf[N-5, 0] = 1\n",
    "Z = ifftn(xf)\n",
    "ax2.imshow(xf, cmap=cm.Reds)\n",
    "ax5.imshow(np.real(Z), cmap=cm.gray)\n",
    "\n",
    "xf = np.zeros((N, N))\n",
    "xf[5, 10] = 1\n",
    "xf[N-5, N-10] = 1\n",
    "Z = ifftn(xf)\n",
    "ax3.imshow(xf, cmap=cm.Reds)\n",
    "ax6.imshow(np.real(Z), cmap=cm.gray)\n",
    "\n",
    "plt.show()"
   ]
  },
  {
   "cell_type": "markdown",
   "metadata": {},
   "source": [
    "### FFT convolution\n",
    "\n",
    "scipy.fftpack.convolve performs a convolution of two one-dimensional arrays in frequency domain."
   ]
  },
  {
   "cell_type": "markdown",
   "metadata": {},
   "source": [
    "## Discrete Cosine Transforms\n",
    "Scipy provides a DCT with the function dct and a corresponding IDCT with the function idct. There are 8 types of the DCT [WPC], [Mak]; however, only the first 3 types are implemented in scipy. “The” DCT generally refers to DCT ***type 2***, and “the” Inverse DCT generally refers to DCT ***type 3***. In addition, the DCT coefficients can be normalized differently (for most types, scipy provides None and ortho). Two parameters of the dct/idct function calls allow setting the DCT type and coefficient normalization.\n",
    "\n",
    "For a single dimension array x, dct(x, norm=’ortho’) is equal to MATLAB dct(x).\n",
    "\n",
    "### Type I DCT\n",
    "\n",
    "Scipy uses the following definition of the unnormalized DCT-I (norm='None'):\n",
    "> $\\begin{split}y[k] = x_0 + (-1)^k x_{N-1} + 2\\sum_{n=1}^{N-2} x[n]\n",
    "\\cos\\left({\\pi nk\\over N-1}\\right),\n",
    "\\qquad 0 \\le k < N.\\end{split}$\n",
    "\n",
    "Only None is supported as normalization mode for DCT-I. Note also that the DCT-I is only supported for input size > 1\n",
    "\n",
    "### Type II DCT\n",
    "\n",
    "Scipy uses the following definition of the unnormalized DCT-II (norm='None'):\n",
    "> $\\begin{split}y[k] = 2 \\sum_{n=0}^{N-1} x[n] \\cos \\left({\\pi(2n+1)k \\over 2N} \\right)\n",
    "\\qquad 0 \\le k < N.\\end{split}$\n",
    "\n",
    "In case of the normalized DCT (norm='ortho'), the DCT coefficients y[k] are multiplied by a scaling factor f:\n",
    "> $\\begin{split}f = \\begin{cases} \\sqrt{1/(4N)}, & \\text{if $k = 0$} \\\\    \\sqrt{1/(2N)},\n",
    "& \\text{otherwise} \\end{cases} \\, .\\end{split}$\n",
    "\n",
    "In this case, the DCT “base functions” $\\phi_k[n] = 2 f \\cos\n",
    "\\left({\\pi(2n+1)k \\over 2N} \\right)$  become orthonormal:\n",
    "> $\\sum_{n=0}^{N-1} \\phi_k[n] \\phi_l[n] = \\delta_{lk}$\n",
    "\n",
    "### Type III DCT\n",
    "\n",
    "Scipy uses the following definition of the unnormalized DCT-III (norm='None'):\n",
    "> $\\begin{split}y[k] = x_0 + 2 \\sum_{n=1}^{N-1} x[n] \\cos\\left({\\pi n(2k+1) \\over 2N}\\right)\n",
    "\\qquad 0 \\le k < N,\\end{split}$\n",
    "\n",
    "or, for norm='ortho':\n",
    "> $\\begin{split}y[k] = {x_0\\over\\sqrt{N}} + {2\\over\\sqrt{N}} \\sum_{n=1}^{N-1} x[n]\n",
    "\\cos\\left({\\pi n(2k+1) \\over 2N}\\right) \\qquad 0 \\le k < N.\\end{split}$\n",
    "\n",
    "### DCT and IDCT\n",
    "\n",
    "The (unnormalized) DCT-III is the inverse of the (unnormalized) DCT-II, up to a factor 2N. The orthonormalized DCT-III is exactly the inverse of the orthonormalized DCT- II. The function idct performs the mappings between the DCT and IDCT types.\n",
    "\n",
    "The example below shows the relation between DCT and IDCT for different types and normalizations."
   ]
  },
  {
   "cell_type": "code",
   "execution_count": 44,
   "metadata": {
    "collapsed": false
   },
   "outputs": [
    {
     "data": {
      "text/plain": [
       "array([  8.,  16.,   8.,  -8.,  12.])"
      ]
     },
     "execution_count": 44,
     "metadata": {},
     "output_type": "execute_result"
    }
   ],
   "source": [
    "from scipy.fftpack import dct, idct\n",
    "\n",
    "x = np.array([1.0, 2.0, 1.0, -1.0, 1.5])\n",
    "dct(dct(x, type=2, norm='ortho'), type=3, norm='ortho')\n",
    "\n",
    " # scaling factor 2*N = 10\n",
    "idct(dct(x, type=2), type=2)\n",
    "\n",
    " # no scaling factor\n",
    "idct(dct(x, type=2, norm='ortho'), type=2, norm='ortho')\n",
    "\n",
    " # scaling factor 2*N = 10\n",
    "idct(dct(x, type=3), type=3)\n",
    "\n",
    " # no scaling factor\n",
    "idct(dct(x, type=3, norm='ortho'), type=3, norm='ortho')\n",
    "\n",
    " # scaling factor 2*(N-1) = 8\n",
    "idct(dct(x, type=1), type=1) "
   ]
  },
  {
   "cell_type": "markdown",
   "metadata": {},
   "source": [
    "### Example\n",
    "\n",
    "The DCT exhibits the “energy compaction property”, meaning that for many signals only the first few DCT coefficients have significant magnitude. Zeroing out the other coefficients leads to a small reconstruction error, a fact which is exploited in lossy signal compression (e.g. JPEG compression).\n",
    "\n",
    "The example below shows a signal x and two reconstructions (x20x20 and x15x15)from the signal’s DCT coefficients. The signal x20 is reconstructed from the first 20 DCT coefficients, x15 is reconstructed from the first 15 DCT coefficients. It can be seen that the relative error of using 20 coefficients is still very small (~0.1%), but provides a five-fold compression rate."
   ]
  },
  {
   "cell_type": "code",
   "execution_count": 46,
   "metadata": {
    "collapsed": false
   },
   "outputs": [
    {
     "data": {
      "image/png": "[encoded data removed]",
      "text/plain": [
       "<matplotlib.figure.Figure at 0x7f250a317208>"
      ]
     },
     "metadata": {},
     "output_type": "display_data"
    }
   ],
   "source": [
    "from scipy.fftpack import dct, idct\n",
    "\n",
    "N = 100\n",
    "t = np.linspace(0,20,N)\n",
    "x = np.exp(-t/3)*np.cos(2*t)\n",
    "plt.plot(t, x, '-bx')\n",
    "\n",
    "y = dct(x, norm='ortho')\n",
    "window = np.zeros(N)\n",
    "window[:20] = 1\n",
    "yr = idct(y*window, norm='ortho')\n",
    "sum(abs(x-yr)**2) / sum(abs(x)**2)\n",
    "# 0.0010901402257\n",
    "plt.plot(t, yr, 'ro')\n",
    "\n",
    "window = np.zeros(N)\n",
    "window[:15] = 1\n",
    "yr = idct(y*window, norm='ortho')\n",
    "sum(abs(x-yr)**2) / sum(abs(x)**2)\n",
    "# 0.0718818065008\n",
    "plt.plot(t, yr, 'g+')\n",
    "\n",
    "plt.legend(['x', '$x_{20}$', '$x_{15}$'])\n",
    "plt.grid()\n",
    "plt.show()"
   ]
  },
  {
   "cell_type": "markdown",
   "metadata": {},
   "source": [
    "## Discrete Sine Transforms\n",
    "Scipy provides a DST [Mak] with the function dst and a corresponding IDST with the function idst.\n",
    "\n",
    "There are theoretically 8 types of the DST for different combinations of even/odd boundary conditions and boundary off sets [WPS], only the first 3 types are implemented in scipy.\n",
    "\n",
    "### Type I DST\n",
    "\n",
    "DST-I assumes the input is odd around n=-1 and n=N. Scipy uses the following definition of the unnormalized DST-I (norm='None'):\n",
    "> $\\begin{split}y[k] = 2\\sum_{n=0}^{N-1} x[n]  \\sin\\left( \\pi {(n+1) (k+1)}\\over{N+1}\n",
    "\\right), \\qquad 0 \\le k < N.\\end{split}$\n",
    "\n",
    "Only None is supported as normalization mode for DST-I. Note also that the DST-I is only supported for input size > 1. The (unnormalized) DST-I is its own inverse, up to a factor 2(N+1).\n",
    "\n",
    "### Type II DST\n",
    "\n",
    "DST-II assumes the input is odd around n=-1/2 and even around n=N. Scipy uses the following definition of the unnormalized DST-II (norm='None'):\n",
    "> $\\begin{split}y[k] = 2 \\sum_{n=0}^{N-1} x[n]  \\sin\\left( {\\pi (n+1/2)(k+1)} \\over N\n",
    "\\right), \\qquad 0 \\le k < N.\\end{split}$\n",
    "\n",
    "\n",
    "### Type III DST\n",
    "\n",
    "DST-III assumes the input is odd around n=-1 and even around n=N-1. Scipy uses the following definition of the unnormalized DST-III (norm='None'):\n",
    "> $\\begin{split}y[k] = (-1)^k x[N-1] + 2 \\sum_{n=0}^{N-2} x[n] \\sin \\left( {\\pi\n",
    "(n+1)(k+1/2)} \\over N \\right), \\qquad 0 \\le k < N.\\end{split}$\n",
    "\n",
    "\n",
    "### DST and IDST\n",
    "\n",
    "The example below shows the relation between DST and IDST for different types and normalizations."
   ]
  },
  {
   "cell_type": "code",
   "execution_count": 47,
   "metadata": {
    "collapsed": false
   },
   "outputs": [
    {
     "data": {
      "text/plain": [
       "array([ 12.,  24.,  12., -12.,  18.])"
      ]
     },
     "execution_count": 47,
     "metadata": {},
     "output_type": "execute_result"
    }
   ],
   "source": [
    "from scipy.fftpack import dst, idst\n",
    "x = np.array([1.0, 2.0, 1.0, -1.0, 1.5])\n",
    " # scaling factor 2*N = 10\n",
    "idst(dst(x, type=2), type=2)\n",
    "\n",
    " # no scaling factor\n",
    "idst(dst(x, type=2, norm='ortho'), type=2, norm='ortho')\n",
    "\n",
    " # scaling factor 2*N = 10\n",
    "idst(dst(x, type=3), type=3)\n",
    "\n",
    " # no scaling factor\n",
    "idst(dst(x, type=3, norm='ortho'), type=3, norm='ortho')\n",
    "\n",
    " # scaling factor 2*(N+1) = 8\n",
    "idst(dst(x, type=1), type=1)"
   ]
  },
  {
   "cell_type": "markdown",
   "metadata": {},
   "source": [
    "## Cache Destruction\n",
    "To accelerate repeat transforms on arrays of the same shape and dtype, scipy.fftpack keeps a cache of the prime factorization of length of the array and pre-computed trigonometric functions. These caches can be destroyed by calling the appropriate function in ***scipy.fftpack._fftpack.dst(type=1)*** and ***idst(type=1)*** share a cache (*dst1_cache). As do dst(type=2), dst(type=3), idst(type=3), and idst(type=3) (*dst2_cache)."
   ]
  },
  {
   "cell_type": "code",
   "execution_count": null,
   "metadata": {
    "collapsed": true
   },
   "outputs": [],
   "source": []
  }
 ],
 "metadata": {
  "kernelspec": {
   "display_name": "Python 3",
   "language": "python",
   "name": "python3"
  },
  "language_info": {
   "codemirror_mode": {
    "name": "ipython",
    "version": 3
   },
   "file_extension": ".py",
   "mimetype": "text/x-python",
   "name": "python",
   "nbconvert_exporter": "python",
   "pygments_lexer": "ipython3",
   "version": "3.6.0"
  }
 },
 "nbformat": 4,
 "nbformat_minor": 2
}
