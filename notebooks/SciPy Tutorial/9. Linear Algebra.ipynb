{
 "cells": [
  {
   "cell_type": "markdown",
   "metadata": {},
   "source": [
    "# 9. Linear Algebra\n",
    "https://docs.scipy.org/doc/scipy/reference/tutorial/index.html   \n",
    "https://docs.scipy.org/doc/scipy/reference/tutorial/linalg.html"
   ]
  },
  {
   "cell_type": "code",
   "execution_count": 135,
   "metadata": {
    "collapsed": false
   },
   "outputs": [
    {
     "name": "stdout",
     "output_type": "stream",
     "text": [
      "Populating the interactive namespace from numpy and matplotlib\n"
     ]
    },
    {
     "name": "stderr",
     "output_type": "stream",
     "text": [
      "/home/wei/anaconda3/lib/python3.6/site-packages/IPython/core/magics/pylab.py:161: UserWarning: pylab import has clobbered these variables: ['rank', 'linalg']\n",
      "`%matplotlib` prevents importing * from pylab and numpy\n",
      "  \"\\n`%matplotlib` prevents importing * from pylab and numpy\"\n"
     ]
    }
   ],
   "source": [
    "%pylab inline"
   ]
  },
  {
   "cell_type": "markdown",
   "metadata": {
    "collapsed": true
   },
   "source": [
    "When SciPy is built using the optimized ATLAS LAPACK and BLAS libraries, it has very fast linear algebra capabilities. If you dig deep enough, all of the raw lapack and blas libraries are available for your use for even more speed. In this section, some easier-to-use interfaces to these routines are described.\n",
    "\n",
    "All of these linear algebra routines expect an object that can be converted into a 2-dimensional array. The output of these routines is also a two-dimensional array."
   ]
  },
  {
   "cell_type": "markdown",
   "metadata": {},
   "source": [
    "## scipy.linalg vs numpy.linalg\n",
    "scipy.linalg contains all the functions in numpy.linalg. plus some other more advanced ones not contained in numpy.linalg\n",
    "\n",
    "Another advantage of using scipy.linalg over numpy.linalg is that it is always compiled with BLAS/LAPACK support, while for numpy this is optional. Therefore, the scipy version might be faster depending on how numpy was installed.\n",
    "\n",
    "Therefore, unless you don’t want to add scipy as a dependency to your numpy program, use scipy.linalg instead of numpy.linalg\n",
    "\n",
    "## numpy.matrix vs 2D numpy.ndarray\n",
    "The classes that represent matrices, and basic operations such as matrix multiplications and transpose are a part of numpy. For convenience, we summarize the differences between numpy.matrix and numpy.ndarray here.\n",
    "\n",
    "***numpy.matrix*** is matrix class that has a more convenient interface than numpy.ndarray for matrix operations. This class supports for example MATLAB-like creation syntax via the, has matrix multiplication as default for the * operator, and contains I and T members that serve as shortcuts for inverse and transpose:"
   ]
  },
  {
   "cell_type": "code",
   "execution_count": 136,
   "metadata": {
    "collapsed": false
   },
   "outputs": [
    {
     "data": {
      "text/plain": [
       "matrix([[1, 2],\n",
       "        [3, 4]])"
      ]
     },
     "execution_count": 136,
     "metadata": {},
     "output_type": "execute_result"
    }
   ],
   "source": [
    "import numpy as np\n",
    "A = np.mat('[1 2;3 4]')\n",
    "A"
   ]
  },
  {
   "cell_type": "code",
   "execution_count": 137,
   "metadata": {
    "collapsed": false
   },
   "outputs": [
    {
     "data": {
      "text/plain": [
       "matrix([[-2. ,  1. ],\n",
       "        [ 1.5, -0.5]])"
      ]
     },
     "execution_count": 137,
     "metadata": {},
     "output_type": "execute_result"
    }
   ],
   "source": [
    "A.I"
   ]
  },
  {
   "cell_type": "code",
   "execution_count": 138,
   "metadata": {
    "collapsed": false
   },
   "outputs": [
    {
     "data": {
      "text/plain": [
       "matrix([[5, 6]])"
      ]
     },
     "execution_count": 138,
     "metadata": {},
     "output_type": "execute_result"
    }
   ],
   "source": [
    "b = np.mat('[5 6]')\n",
    "b"
   ]
  },
  {
   "cell_type": "code",
   "execution_count": 139,
   "metadata": {
    "collapsed": false
   },
   "outputs": [
    {
     "data": {
      "text/plain": [
       "matrix([[5],\n",
       "        [6]])"
      ]
     },
     "execution_count": 139,
     "metadata": {},
     "output_type": "execute_result"
    }
   ],
   "source": [
    "b.T"
   ]
  },
  {
   "cell_type": "code",
   "execution_count": 140,
   "metadata": {
    "collapsed": false
   },
   "outputs": [
    {
     "data": {
      "text/plain": [
       "matrix([[17],\n",
       "        [39]])"
      ]
     },
     "execution_count": 140,
     "metadata": {},
     "output_type": "execute_result"
    }
   ],
   "source": [
    "A*b.T"
   ]
  },
  {
   "cell_type": "markdown",
   "metadata": {},
   "source": [
    "Despite its convenience, ***the use of the numpy.matrix class is discouraged***, since it adds nothing that cannot be accomplished with 2D numpy.ndarray objects, and may lead to a confusion of which class is being used. For example, the above code can be rewritten as:"
   ]
  },
  {
   "cell_type": "code",
   "execution_count": 141,
   "metadata": {
    "collapsed": false
   },
   "outputs": [
    {
     "data": {
      "text/plain": [
       "array([[1, 2],\n",
       "       [3, 4]])"
      ]
     },
     "execution_count": 141,
     "metadata": {},
     "output_type": "execute_result"
    }
   ],
   "source": [
    "import numpy as np\n",
    "from scipy import linalg\n",
    "A = np.array([[1,2],[3,4]])\n",
    "A"
   ]
  },
  {
   "cell_type": "code",
   "execution_count": 142,
   "metadata": {
    "collapsed": false
   },
   "outputs": [
    {
     "data": {
      "text/plain": [
       "array([[-2. ,  1. ],\n",
       "       [ 1.5, -0.5]])"
      ]
     },
     "execution_count": 142,
     "metadata": {},
     "output_type": "execute_result"
    }
   ],
   "source": [
    "linalg.inv(A)"
   ]
  },
  {
   "cell_type": "code",
   "execution_count": 143,
   "metadata": {
    "collapsed": false
   },
   "outputs": [
    {
     "data": {
      "text/plain": [
       "array([[5, 6]])"
      ]
     },
     "execution_count": 143,
     "metadata": {},
     "output_type": "execute_result"
    }
   ],
   "source": [
    "b = np.array([[5,6]]) #2D array\n",
    "b"
   ]
  },
  {
   "cell_type": "code",
   "execution_count": 144,
   "metadata": {
    "collapsed": false
   },
   "outputs": [
    {
     "data": {
      "text/plain": [
       "array([[5],\n",
       "       [6]])"
      ]
     },
     "execution_count": 144,
     "metadata": {},
     "output_type": "execute_result"
    }
   ],
   "source": [
    "b.T"
   ]
  },
  {
   "cell_type": "code",
   "execution_count": 145,
   "metadata": {
    "collapsed": false
   },
   "outputs": [
    {
     "data": {
      "text/plain": [
       "array([[ 5, 12],\n",
       "       [15, 24]])"
      ]
     },
     "execution_count": 145,
     "metadata": {},
     "output_type": "execute_result"
    }
   ],
   "source": [
    "A*b #not matrix multiplication!"
   ]
  },
  {
   "cell_type": "code",
   "execution_count": 146,
   "metadata": {
    "collapsed": false
   },
   "outputs": [
    {
     "data": {
      "text/plain": [
       "array([[17],\n",
       "       [39]])"
      ]
     },
     "execution_count": 146,
     "metadata": {},
     "output_type": "execute_result"
    }
   ],
   "source": [
    "A.dot(b.T) #matrix multiplication"
   ]
  },
  {
   "cell_type": "code",
   "execution_count": 147,
   "metadata": {
    "collapsed": false
   },
   "outputs": [
    {
     "data": {
      "text/plain": [
       "array([5, 6])"
      ]
     },
     "execution_count": 147,
     "metadata": {},
     "output_type": "execute_result"
    }
   ],
   "source": [
    "b = np.array([5,6]) #1D array\n",
    "b"
   ]
  },
  {
   "cell_type": "code",
   "execution_count": 148,
   "metadata": {
    "collapsed": false
   },
   "outputs": [
    {
     "data": {
      "text/plain": [
       "array([5, 6])"
      ]
     },
     "execution_count": 148,
     "metadata": {},
     "output_type": "execute_result"
    }
   ],
   "source": [
    "b.T  #not matrix transpose!"
   ]
  },
  {
   "cell_type": "code",
   "execution_count": 149,
   "metadata": {
    "collapsed": false
   },
   "outputs": [
    {
     "data": {
      "text/plain": [
       "array([17, 39])"
      ]
     },
     "execution_count": 149,
     "metadata": {},
     "output_type": "execute_result"
    }
   ],
   "source": [
    "A.dot(b)  #does not matter for multiplication"
   ]
  },
  {
   "cell_type": "markdown",
   "metadata": {},
   "source": [
    "## Basic routines\n",
    "### Finding Inverse\n",
    "\n",
    "The inverse of a matrix A is the matrix B such that AB=I where I is the identity matrix consisting of ones down the main diagonal. Usually B is denoted $B=A^{-1}$ . In SciPy, the matrix inverse of the Numpy array, A, is obtained using linalg.inv (A) , or using A.I if A is a Matrix. For example, let\n",
    "> $\\begin{split}\\mathbf{A} = \\left[\\begin{array}{ccc} 1 & 3 & 5\\\\ 2 & 5 & 1\\\\ 2 & 3 & 8\\end{array}\\right]\\end{split}$\n",
    "\n",
    "then\n",
    "\n",
    "> $\\begin{split}\\mathbf{A^{-1}} = \\frac{1}{25}\n",
    "    \\left[\\begin{array}{ccc} -37 & 9 & 22 \\\\\n",
    "                              14 & 2 & -9 \\\\\n",
    "                              4 & -3 & 1\n",
    "          \\end{array}\\right] = %\n",
    "     \\left[\\begin{array}{ccc} -1.48 & 0.36 & 0.88  \\\\\n",
    "                               0.56 & 0.08 & -0.36 \\\\\n",
    "                               0.16 & -0.12 & 0.04\n",
    "           \\end{array}\\right].\\end{split}$\n",
    "           \n",
    "The following example demonstrates this computation in SciPy           "
   ]
  },
  {
   "cell_type": "code",
   "execution_count": 150,
   "metadata": {
    "collapsed": false
   },
   "outputs": [
    {
     "data": {
      "text/plain": [
       "array([[1, 3, 5],\n",
       "       [2, 5, 1],\n",
       "       [2, 3, 8]])"
      ]
     },
     "execution_count": 150,
     "metadata": {},
     "output_type": "execute_result"
    }
   ],
   "source": [
    "import numpy as np\n",
    "from scipy import linalg\n",
    "A = np.array([[1,3,5],[2,5,1],[2,3,8]])\n",
    "A"
   ]
  },
  {
   "cell_type": "code",
   "execution_count": 151,
   "metadata": {
    "collapsed": false
   },
   "outputs": [
    {
     "data": {
      "text/plain": [
       "array([[-1.48,  0.36,  0.88],\n",
       "       [ 0.56,  0.08, -0.36],\n",
       "       [ 0.16, -0.12,  0.04]])"
      ]
     },
     "execution_count": 151,
     "metadata": {},
     "output_type": "execute_result"
    }
   ],
   "source": [
    "linalg.inv(A)"
   ]
  },
  {
   "cell_type": "code",
   "execution_count": 152,
   "metadata": {
    "collapsed": false
   },
   "outputs": [
    {
     "data": {
      "text/plain": [
       "array([[  1.00000000e+00,  -1.11022302e-16,  -5.55111512e-17],\n",
       "       [  3.05311332e-16,   1.00000000e+00,   1.87350135e-16],\n",
       "       [  2.22044605e-16,  -1.11022302e-16,   1.00000000e+00]])"
      ]
     },
     "execution_count": 152,
     "metadata": {},
     "output_type": "execute_result"
    }
   ],
   "source": [
    "A.dot(linalg.inv(A)) #double check"
   ]
  },
  {
   "cell_type": "markdown",
   "metadata": {},
   "source": [
    "## Solving linear system\n",
    "\n",
    "Solving linear systems of equations is straightforward using the scipy command ***linalg.solve***. This command expects an input matrix and a right-hand-side vector. The solution vector is then computed. An option for entering a symmetric matrix is offered which can speed up the processing when applicable. As an example, suppose it is desired to solve the following simultaneous equations:\n",
    "> $\\begin{eqnarray*} x + 3y + 5z & = & 10 \\\\\n",
    "                   2x + 5y + z & = & 8  \\\\\n",
    "                   2x + 3y + 8z & = & 3\n",
    " \\end{eqnarray*}$\n",
    " \n",
    "We could find the solution vector using a matrix inverse:\n",
    "> $\\begin{split}\\left[\\begin{array}{c} x\\\\ y\\\\ z\\end{array}\\right]=\\left[\\begin{array}{ccc} 1 & 3 & 5\\\\ 2 & 5 & 1\\\\ 2 & 3 & 8\\end{array}\\right]^{-1}\\left[\\begin{array}{c} 10\\\\ 8\\\\ 3\\end{array}\\right]=\\frac{1}{25}\\left[\\begin{array}{c} -232\\\\ 129\\\\ 19\\end{array}\\right]=\\left[\\begin{array}{c} -9.28\\\\ 5.16\\\\ 0.76\\end{array}\\right].\\end{split}$\n",
    "\n",
    "However, it is better to use the linalg.solve command which can be faster and more numerically stable. In this case it however gives the same answer as shown in the following example:"
   ]
  },
  {
   "cell_type": "code",
   "execution_count": 153,
   "metadata": {
    "collapsed": false
   },
   "outputs": [
    {
     "data": {
      "text/plain": [
       "array([[1, 2],\n",
       "       [3, 4]])"
      ]
     },
     "execution_count": 153,
     "metadata": {},
     "output_type": "execute_result"
    }
   ],
   "source": [
    "import numpy as np\n",
    "from scipy import linalg\n",
    "A = np.array([[1, 2], [3, 4]])\n",
    "A"
   ]
  },
  {
   "cell_type": "code",
   "execution_count": 154,
   "metadata": {
    "collapsed": false
   },
   "outputs": [
    {
     "data": {
      "text/plain": [
       "array([[5],\n",
       "       [6]])"
      ]
     },
     "execution_count": 154,
     "metadata": {},
     "output_type": "execute_result"
    }
   ],
   "source": [
    "b = np.array([[5], [6]])\n",
    "b"
   ]
  },
  {
   "cell_type": "code",
   "execution_count": 155,
   "metadata": {
    "collapsed": false
   },
   "outputs": [
    {
     "data": {
      "text/plain": [
       "array([[-4. ],\n",
       "       [ 4.5]])"
      ]
     },
     "execution_count": 155,
     "metadata": {},
     "output_type": "execute_result"
    }
   ],
   "source": [
    "linalg.inv(A).dot(b)  # slow"
   ]
  },
  {
   "cell_type": "code",
   "execution_count": 156,
   "metadata": {
    "collapsed": false
   },
   "outputs": [
    {
     "data": {
      "text/plain": [
       "array([[ 0.],\n",
       "       [ 0.]])"
      ]
     },
     "execution_count": 156,
     "metadata": {},
     "output_type": "execute_result"
    }
   ],
   "source": [
    "A.dot(linalg.inv(A).dot(b)) - b  # check"
   ]
  },
  {
   "cell_type": "code",
   "execution_count": 157,
   "metadata": {
    "collapsed": false
   },
   "outputs": [
    {
     "data": {
      "text/plain": [
       "array([[-4. ],\n",
       "       [ 4.5]])"
      ]
     },
     "execution_count": 157,
     "metadata": {},
     "output_type": "execute_result"
    }
   ],
   "source": [
    "np.linalg.solve(A, b)  # fast"
   ]
  },
  {
   "cell_type": "code",
   "execution_count": 158,
   "metadata": {
    "collapsed": false
   },
   "outputs": [
    {
     "data": {
      "text/plain": [
       "array([[ 0.],\n",
       "       [ 0.]])"
      ]
     },
     "execution_count": 158,
     "metadata": {},
     "output_type": "execute_result"
    }
   ],
   "source": [
    "A.dot(np.linalg.solve(A, b)) - b  # check"
   ]
  },
  {
   "cell_type": "markdown",
   "metadata": {},
   "source": [
    "## Finding Determinant\n",
    "\n",
    "The determinant of a square matrix AA is often denoted |A| and is a quantity often used in linear algebra. Suppose $a_{ij}$ are the elements of the matrix A and let Mij=∣∣Aij∣be the determinant of the matrix left by removing the $i^{th}$ row and $j^{th}$ column from A . Then for any row i,\n",
    ">$\\left|\\mathbf{A}\\right|=\\sum_{j}\\left(-1\\right)^{i+j}a_{ij}M_{ij}.$\n",
    "\n",
    "This is a recursive way to define the determinant where the base case is defined by accepting that the determinant of a 1×1 matrix is the only matrix element. In SciPy the determinant can be calculated with ***linalg.det*** . For example, the determinant of\n",
    "> $\\begin{split}\\mathbf{A=}\\left[\\begin{array}{ccc} 1 & 3 & 5\\\\ 2 & 5 & 1\\\\ 2 & 3 & 8\\end{array}\\right]\\end{split}$\n",
    "\n",
    "is\n",
    "> $ \\begin{eqnarray*} \\left|\\mathbf{A}\\right| & = & 1\\left|\\begin{array}{cc} 5 & 1\\\\ 3 & 8\\end{array}\\right|-3\\left|\\begin{array}{cc} 2 & 1\\\\ 2 & 8\\end{array}\\right|+5\\left|\\begin{array}{cc} 2 & 5\\\\ 2 & 3\\end{array}\\right|\\\\  & = & 1\\left(5\\cdot8-3\\cdot1\\right)-3\\left(2\\cdot8-2\\cdot1\\right)+5\\left(2\\cdot3-2\\cdot5\\right)=-25.\\end{eqnarray*}$\n",
    "\n",
    "In SciPy this is computed as shown in this example:"
   ]
  },
  {
   "cell_type": "code",
   "execution_count": 159,
   "metadata": {
    "collapsed": false
   },
   "outputs": [
    {
     "data": {
      "text/plain": [
       "array([[1, 3, 5],\n",
       "       [2, 5, 1],\n",
       "       [2, 3, 8]])"
      ]
     },
     "execution_count": 159,
     "metadata": {},
     "output_type": "execute_result"
    }
   ],
   "source": [
    "import numpy as np\n",
    "from scipy import linalg\n",
    "A = np.array([[1,3,5],[2,5,1],[2,3,8]])\n",
    "A"
   ]
  },
  {
   "cell_type": "code",
   "execution_count": 160,
   "metadata": {
    "collapsed": false
   },
   "outputs": [
    {
     "data": {
      "text/plain": [
       "-25.000000000000004"
      ]
     },
     "execution_count": 160,
     "metadata": {},
     "output_type": "execute_result"
    }
   ],
   "source": [
    "linalg.det(A)"
   ]
  },
  {
   "cell_type": "markdown",
   "metadata": {},
   "source": [
    "## Computing norms\n",
    "\n",
    "Matrix and vector norms can also be computed with SciPy. A wide range of norm definitions are available using different parameters to the order argument of ***linalg.norm*** . This function takes a rank-1 (vectors) or a rank-2 (matrices) array and an optional order argument (default is 2). Based on these inputs a vector or matrix norm of the requested order is computed.\n",
    "\n",
    "For vector x , the order parameter can be any real number including inf or -inf. The computed norm is\n",
    "> $\\begin{split}\\left\\Vert \\mathbf{x}\\right\\Vert =\\left\\{ \\begin{array}{cc} \\max\\left|x_{i}\\right| & \\textrm{ord}=\\textrm{inf}\\\\ \\min\\left|x_{i}\\right| & \\textrm{ord}=-\\textrm{inf}\\\\ \\left(\\sum_{i}\\left|x_{i}\\right|^{\\textrm{ord}}\\right)^{1/\\textrm{ord}} & \\left|\\textrm{ord}\\right|<\\infty.\\end{array}\\right.\\end{split}$\n",
    "\n",
    "For matrix A the only valid values for norm are ±2,±1, ±inf, and ‘fro’ (or ‘f’) Thus,\n",
    "> $\\begin{split}\\left\\Vert \\mathbf{A}\\right\\Vert =\\left\\{ \\begin{array}{cc} \\max_{i}\\sum_{j}\\left|a_{ij}\\right| & \\textrm{ord}=\\textrm{inf}\\\\ \\min_{i}\\sum_{j}\\left|a_{ij}\\right| & \\textrm{ord}=-\\textrm{inf}\\\\ \\max_{j}\\sum_{i}\\left|a_{ij}\\right| & \\textrm{ord}=1\\\\ \\min_{j}\\sum_{i}\\left|a_{ij}\\right| & \\textrm{ord}=-1\\\\ \\max\\sigma_{i} & \\textrm{ord}=2\\\\ \\min\\sigma_{i} & \\textrm{ord}=-2\\\\ \\sqrt{\\textrm{trace}\\left(\\mathbf{A}^{H}\\mathbf{A}\\right)} & \\textrm{ord}=\\textrm{'fro'}\\end{array}\\right.\\end{split}$\n",
    "\n",
    "where σi are the singular values of A .\n",
    "\n",
    "Examples:"
   ]
  },
  {
   "cell_type": "code",
   "execution_count": 161,
   "metadata": {
    "collapsed": false
   },
   "outputs": [
    {
     "data": {
      "text/plain": [
       "array([[1, 2],\n",
       "       [3, 4]])"
      ]
     },
     "execution_count": 161,
     "metadata": {},
     "output_type": "execute_result"
    }
   ],
   "source": [
    "import numpy as np\n",
    "from scipy import linalg\n",
    "A=np.array([[1,2],[3,4]])\n",
    "A"
   ]
  },
  {
   "cell_type": "code",
   "execution_count": 162,
   "metadata": {
    "collapsed": false
   },
   "outputs": [
    {
     "data": {
      "text/plain": [
       "5.4772255750516612"
      ]
     },
     "execution_count": 162,
     "metadata": {},
     "output_type": "execute_result"
    }
   ],
   "source": [
    "linalg.norm(A)"
   ]
  },
  {
   "cell_type": "code",
   "execution_count": 163,
   "metadata": {
    "collapsed": false
   },
   "outputs": [
    {
     "data": {
      "text/plain": [
       "5.4772255750516612"
      ]
     },
     "execution_count": 163,
     "metadata": {},
     "output_type": "execute_result"
    }
   ],
   "source": [
    "linalg.norm(A,'fro') # frobenius norm is the default"
   ]
  },
  {
   "cell_type": "code",
   "execution_count": 164,
   "metadata": {
    "collapsed": false
   },
   "outputs": [
    {
     "data": {
      "text/plain": [
       "6.0"
      ]
     },
     "execution_count": 164,
     "metadata": {},
     "output_type": "execute_result"
    }
   ],
   "source": [
    "linalg.norm(A,1) # L1 norm (max column sum)"
   ]
  },
  {
   "cell_type": "code",
   "execution_count": 165,
   "metadata": {
    "collapsed": false
   },
   "outputs": [
    {
     "data": {
      "text/plain": [
       "4.0"
      ]
     },
     "execution_count": 165,
     "metadata": {},
     "output_type": "execute_result"
    }
   ],
   "source": [
    "linalg.norm(A,-1)"
   ]
  },
  {
   "cell_type": "code",
   "execution_count": 166,
   "metadata": {
    "collapsed": false
   },
   "outputs": [
    {
     "data": {
      "text/plain": [
       "7.0"
      ]
     },
     "execution_count": 166,
     "metadata": {},
     "output_type": "execute_result"
    }
   ],
   "source": [
    "linalg.norm(A,np.inf) # L inf norm (max row sum)"
   ]
  },
  {
   "cell_type": "markdown",
   "metadata": {},
   "source": [
    "## Solving linear least-squares problems and pseudo-inverses\n",
    "\n",
    "Linear least-squares problems occur in many branches of applied mathematics. In this problem a set of linear scaling coefficients is sought that allow a model to fit data. In particular it is assumed that data yi is related to data xi through a set of coefficients cj and model functions fj(xi) via the model\n",
    "> $y_{i}=\\sum_{j}c_{j}f_{j}\\left(\\mathbf{x}_{i}\\right)+\\epsilon_{i}$\n",
    "\n",
    "where ϵi represents uncertainty in the data. The strategy of least squares is to pick the coefficients cj to minimize\n",
    ">$J\\left(\\mathbf{c}\\right)=\\sum_{i}\\left|y_{i}-\\sum_{j}c_{j}f_{j}\\left(x_{i}\\right)\\right|^{2}.$\n",
    "\n",
    "Theoretically, a global minimum will occur when\n",
    ">$\\frac{\\partial J}{\\partial c_{n}^{*}}=0=\\sum_{i}\\left(y_{i}-\\sum_{j}c_{j}f_{j}\\left(x_{i}\\right)\\right)\\left(-f_{n}^{*}\\left(x_{i}\\right)\\right)$\n",
    "\n",
    "or\n",
    ">$\\begin{eqnarray*} \\sum_{j}c_{j}\\sum_{i}f_{j}\\left(x_{i}\\right)f_{n}^{*}\\left(x_{i}\\right) & = & \\sum_{i}y_{i}f_{n}^{*}\\left(x_{i}\\right)\\\\ \\mathbf{A}^{H}\\mathbf{Ac} & = & \\mathbf{A}^{H}\\mathbf{y}\\end{eqnarray*}$\n",
    "\n",
    "where\n",
    ">$\\left\\{ \\mathbf{A}\\right\\} _{ij}=f_{j}\\left(x_{i}\\right).$\n",
    "\n",
    "When $\\mathbf{A^{H}A}$ is invertible, then\n",
    ">$\\mathbf{c}=\\left(\\mathbf{A}^{H}\\mathbf{A}\\right)^{-1}\\mathbf{A}^{H}\\mathbf{y}=\\mathbf{A}^{\\dagger}\\mathbf{y}$\n",
    "\n",
    "where A† is called the ***pseudo-inverse*** of A. Notice that using this definition of A the model can be written\n",
    ">$\\mathbf{y}=\\mathbf{Ac}+\\boldsymbol{\\epsilon}.$\n",
    "\n",
    "The command ***linalg.lstsq*** will solve the linear least squares problem for c given A and y . In addition ***linalg.pinv*** or ***linalg.pinv2*** (uses a different method based on singular value decomposition) will find A† given A.\n",
    "\n",
    "The following example and figure demonstrate the use of linalg.lstsq and linalg.pinv for solving a data-fitting problem. The data shown below were generated using the model:\n",
    ">$y_{i}=c_{1}e^{-x_{i}}+c_{2}x_{i}$\n",
    "\n",
    "where xi=0.1i for i=1…10, c1=5, and c2=2. Noise is added to yi and the coefficients c1 and c2 are estimated using linear least squares."
   ]
  },
  {
   "cell_type": "code",
   "execution_count": 167,
   "metadata": {
    "collapsed": false
   },
   "outputs": [
    {
     "data": {
      "image/png": "[encoded data removed]",
      "text/plain": [
       "<matplotlib.figure.Figure at 0x7fa3ae734e80>"
      ]
     },
     "metadata": {},
     "output_type": "display_data"
    }
   ],
   "source": [
    "import numpy as np\n",
    "from scipy import linalg\n",
    "import matplotlib.pyplot as plt\n",
    "\n",
    "c1, c2 = 5.0, 2.0\n",
    "i = np.r_[1:11]\n",
    "xi = 0.1*i\n",
    "yi = c1*np.exp(-xi) + c2*xi\n",
    "zi = yi + 0.05 * np.max(yi) * np.random.randn(len(yi))  # noise\n",
    "\n",
    "A = np.c_[np.exp(-xi)[:, np.newaxis], xi[:, np.newaxis]]\n",
    "c, resid, rank, sigma = linalg.lstsq(A, zi)\n",
    "\n",
    "xi2 = np.r_[0.1:1.0:100j]\n",
    "yi2 = c[0]*np.exp(-xi2) + c[1]*xi2\n",
    "\n",
    "plt.plot(xi,zi,'x',xi2,yi2)\n",
    "plt.axis([0,1.1,3.0,5.5])\n",
    "plt.xlabel('$x_i$')\n",
    "plt.title('Data fitting with linalg.lstsq')\n",
    "plt.show()"
   ]
  },
  {
   "cell_type": "markdown",
   "metadata": {},
   "source": [
    "### Generalized inverse\n",
    "\n",
    "The generalized inverse is calculated using the command ***linalg.pinv*** or ***linalg.pinv2***. These two commands differ in how they compute the generalized inverse. The first uses the linalg.lstsq algorithm while the second uses singular value decomposition. Let A be an M×N matrix, then if M>N the generalized inverse is\n",
    ">$\\mathbf{A}^{\\dagger}=\\left(\\mathbf{A}^{H}\\mathbf{A}\\right)^{-1}\\mathbf{A}^{H}$\n",
    "\n",
    "while if $M<N$ matrix the generalized inverse is\n",
    ">$\\mathbf{A}^{\\#}=\\mathbf{A}^{H}\\left(\\mathbf{A}\\mathbf{A}^{H}\\right)^{-1}.$\n",
    "\n",
    "In both cases for M=N, then\n",
    ">$\\mathbf{A}^{\\dagger}=\\mathbf{A}^{\\#}=\\mathbf{A}^{-1}$\n",
    "\n",
    "as long as A is invertible.\n",
    "\n",
    "## Decompositions\n",
    "In many applications it is useful to decompose a matrix using other representations. There are several decompositions supported by SciPy.\n",
    "\n",
    "### Eigenvalues and eigenvectors\n",
    "\n",
    "The eigenvalue-eigenvector problem is one of the most commonly employed linear algebra operations. In one popular form, the eigenvalue-eigenvector problem is to find for some square matrix A scalars λ and corresponding vectors v such that\n",
    ">$\\mathbf{Av}=\\lambda\\mathbf{v}.$\n",
    "\n",
    "For an $N×N$ matrix, there are N (not necessarily distinct) eigenvalues — roots of the (characteristic) polynomial\n",
    ">$\\left|\\mathbf{A}-\\lambda\\mathbf{I}\\right|=0.$\n",
    "\n",
    "The eigenvectors, $\\mathbf{v}$ , are also sometimes called ***right eigenvectors*** to distinguish them from another set of left eigenvectors that satisfy\n",
    ">$\\mathbf{v}_{L}^{H}\\mathbf{A}=\\lambda\\mathbf{v}_{L}^{H}$\n",
    "\n",
    "or\n",
    ">$\\mathbf{A}^{H}\\mathbf{v}_{L}=\\lambda^{*}\\mathbf{v}_{L}.$\n",
    "\n",
    "With it’s default optional arguments, the command ***linalg.eig*** returns λ and v. However, it can also return $\\mathbf{v}_{L}$ and just λ by itself ( linalg.eigvals returns just λ as well).\n",
    "\n",
    "In addition, linalg.eig can also solve the more general eigenvalue problem\n",
    ">$\\begin{eqnarray*} \\mathbf{Av} & = & \\lambda\\mathbf{Bv}\\\\ \\mathbf{A}^{H}\\mathbf{v}_{L} & = & \\lambda^{*}\\mathbf{B}^{H}\\mathbf{v}_{L}\\end{eqnarray*}$\n",
    "\n",
    "for square matrices A and B. The standard eigenvalue problem is an example of the general eigenvalue problem for B=I. When a generalized eigenvalue problem can be solved, then it provides a decomposition of AA as\n",
    ">$\\mathbf{A}=\\mathbf{BV}\\boldsymbol{\\Lambda}\\mathbf{V}^{-1}$\n",
    "\n",
    "where $V$ is the collection of eigenvectors into columns and $Λ$ is a diagonal matrix of eigenvalues.\n",
    "\n",
    "By definition, eigenvectors are only defined up to a constant scale factor. In SciPy, the scaling factor for the eigenvectors is chosen so that $\\left\\Vert \\mathbf{v}\\right\\Vert\n",
    "^{2}=\\sum_{i}v_{i}^{2}=1.$\n",
    "\n",
    "As an example, consider finding the eigenvalues and eigenvectors of the matrix\n",
    ">$\\begin{split}\\mathbf{A}=\\left[\\begin{array}{ccc} 1 & 5 & 2\\\\ 2 & 4 & 1\\\\ 3 & 6 & 2\\end{array}\\right].\\end{split}$\n",
    "\n",
    "The characteristic polynomial is\n",
    ">$\\begin{eqnarray*} \\left|\\mathbf{A}-\\lambda\\mathbf{I}\\right| & = & \\left(1-\\lambda\\right)\\left[\\left(4-\\lambda\\right)\\left(2-\\lambda\\right)-6\\right]-\\\\  &  & 5\\left[2\\left(2-\\lambda\\right)-3\\right]+2\\left[12-3\\left(4-\\lambda\\right)\\right]\\\\  & = & -\\lambda^{3}+7\\lambda^{2}+8\\lambda-3.\\end{eqnarray*}$\n",
    "\n",
    "The roots of this polynomial are the eigenvalues of A :\n",
    ">$\\begin{eqnarray*} \\lambda_{1} & = & 7.9579\\\\ \\lambda_{2} & = & -1.2577\\\\ \\lambda_{3} & = & 0.2997.\\end{eqnarray*}$\n",
    "\n",
    "The eigenvectors corresponding to each eigenvalue can be found using the original equation. The eigenvectors associated with these eigenvalues can then be found."
   ]
  },
  {
   "cell_type": "code",
   "execution_count": 168,
   "metadata": {
    "collapsed": false
   },
   "outputs": [
    {
     "data": {
      "text/plain": [
       "array([-0.37228132+0.j,  5.37228132+0.j])"
      ]
     },
     "execution_count": 168,
     "metadata": {},
     "output_type": "execute_result"
    }
   ],
   "source": [
    "import numpy as np\n",
    "from scipy import linalg\n",
    "\n",
    "A = np.array([[1, 2], [3, 4]])\n",
    "la, v = linalg.eig(A)\n",
    "la"
   ]
  },
  {
   "cell_type": "code",
   "execution_count": 169,
   "metadata": {
    "collapsed": false
   },
   "outputs": [
    {
     "data": {
      "text/plain": [
       "array([[-0.82456484, -0.41597356],\n",
       "       [ 0.56576746, -0.90937671]])"
      ]
     },
     "execution_count": 169,
     "metadata": {},
     "output_type": "execute_result"
    }
   ],
   "source": [
    "v"
   ]
  },
  {
   "cell_type": "code",
   "execution_count": 170,
   "metadata": {
    "collapsed": false
   },
   "outputs": [
    {
     "data": {
      "text/plain": [
       "((-0.37228132326901431+0j), (5.3722813232690143+0j))"
      ]
     },
     "execution_count": 170,
     "metadata": {},
     "output_type": "execute_result"
    }
   ],
   "source": [
    "l1, l2 = la\n",
    "l1, l2  # eigenvalues"
   ]
  },
  {
   "cell_type": "code",
   "execution_count": 171,
   "metadata": {
    "collapsed": false
   },
   "outputs": [
    {
     "data": {
      "text/plain": [
       "array([-0.82456484,  0.56576746])"
      ]
     },
     "execution_count": 171,
     "metadata": {},
     "output_type": "execute_result"
    }
   ],
   "source": [
    "v[:, 0]   # first eigenvector"
   ]
  },
  {
   "cell_type": "code",
   "execution_count": 172,
   "metadata": {
    "collapsed": false
   },
   "outputs": [
    {
     "data": {
      "text/plain": [
       "array([-0.41597356, -0.90937671])"
      ]
     },
     "execution_count": 172,
     "metadata": {},
     "output_type": "execute_result"
    }
   ],
   "source": [
    "v[:, 1]   # second eigenvector"
   ]
  },
  {
   "cell_type": "code",
   "execution_count": 173,
   "metadata": {
    "collapsed": false
   },
   "outputs": [
    {
     "data": {
      "text/plain": [
       "array([ 1.,  1.])"
      ]
     },
     "execution_count": 173,
     "metadata": {},
     "output_type": "execute_result"
    }
   ],
   "source": [
    "np.sum(abs(v**2), axis=0) # eigenvectors are unitary"
   ]
  },
  {
   "cell_type": "code",
   "execution_count": 174,
   "metadata": {
    "collapsed": false
   },
   "outputs": [
    {
     "data": {
      "text/plain": [
       "array([-0.82456484,  0.56576746])"
      ]
     },
     "execution_count": 174,
     "metadata": {},
     "output_type": "execute_result"
    }
   ],
   "source": [
    "v1 = np.array(v[:, 0]).T\n",
    "v1"
   ]
  },
  {
   "cell_type": "code",
   "execution_count": 175,
   "metadata": {
    "collapsed": false
   },
   "outputs": [
    {
     "data": {
      "text/plain": [
       "5.551115123125783e-17"
      ]
     },
     "execution_count": 175,
     "metadata": {},
     "output_type": "execute_result"
    }
   ],
   "source": [
    "linalg.norm(A.dot(v1) - l1*v1)  # check the computation"
   ]
  },
  {
   "cell_type": "markdown",
   "metadata": {},
   "source": [
    "### Singular value decomposition\n",
    "\n",
    "Singular Value Decomposition (**SVD**) can be thought of as an extension of the eigenvalue problem to matrices that are not square. Let A be an M×N matrix with M and N arbitrary. The matrices $\\mathbf{A}^{H}\\mathbf{A}$ and $\\mathbf{A}\\mathbf{A}^{H}$ are square hermitian matrices [1] of size N×N and M×M respectively. It is known that the eigenvalues of square hermitian matrices are real and non-negative. In addition, there are at most min(M,N) identical non-zero eigenvalues of $\\mathbf{A}^{H}\\mathbf{A}$ and $\\mathbf{A}\\mathbf{A}^{H}$ . Define these positive eigenvalues as $\\sigma_{i}^{2}.$. The square-root of these are called singular values of A. The eigenvectors of $\\mathbf{A}^{H}\\mathbf{A}$ are collected by columns into an N×N unitary [2] matrix V while the eigenvectors of $\\mathbf{A}\\mathbf{A}^{H}$ are collected by columns in the unitary matrix U , the singular values are collected in an M×N zero matrix Σ with main diagonal entries set to the singular values. Then\n",
    ">$\\mathbf{A=U}\\boldsymbol{\\Sigma}\\mathbf{V}^{H}$\n",
    "\n",
    "is the singular-value decomposition of $A$. Every matrix has a singular value decomposition. Sometimes, the singular values are called the ***spectrum*** of A. The command ***linalg.svd*** will return U , $V^H$ , and $σ_i$ as an array of the singular values. To obtain the matrix Σ use ***linalg.diagsvd***. The following example illustrates the use of linalg.svd ."
   ]
  },
  {
   "cell_type": "code",
   "execution_count": 176,
   "metadata": {
    "collapsed": false
   },
   "outputs": [
    {
     "data": {
      "text/plain": [
       "array([[1, 2, 3],\n",
       "       [4, 5, 6]])"
      ]
     },
     "execution_count": 176,
     "metadata": {},
     "output_type": "execute_result"
    }
   ],
   "source": [
    "import numpy as np\n",
    "from scipy import linalg\n",
    "A = np.array([[1,2,3],[4,5,6]])\n",
    "A"
   ]
  },
  {
   "cell_type": "code",
   "execution_count": 177,
   "metadata": {
    "collapsed": false
   },
   "outputs": [
    {
     "data": {
      "text/plain": [
       "(2, 3)"
      ]
     },
     "execution_count": 177,
     "metadata": {},
     "output_type": "execute_result"
    }
   ],
   "source": [
    "M,N = A.shape\n",
    "M,N"
   ]
  },
  {
   "cell_type": "code",
   "execution_count": 178,
   "metadata": {
    "collapsed": false
   },
   "outputs": [
    {
     "data": {
      "text/plain": [
       "array([[-0.3863177 , -0.92236578],\n",
       "       [-0.92236578,  0.3863177 ]])"
      ]
     },
     "execution_count": 178,
     "metadata": {},
     "output_type": "execute_result"
    }
   ],
   "source": [
    "U,s,Vh = linalg.svd(A)\n",
    "U"
   ]
  },
  {
   "cell_type": "code",
   "execution_count": 179,
   "metadata": {
    "collapsed": false
   },
   "outputs": [
    {
     "data": {
      "text/plain": [
       "array([ 9.508032  ,  0.77286964])"
      ]
     },
     "execution_count": 179,
     "metadata": {},
     "output_type": "execute_result"
    }
   ],
   "source": [
    "s"
   ]
  },
  {
   "cell_type": "code",
   "execution_count": 180,
   "metadata": {
    "collapsed": false
   },
   "outputs": [
    {
     "data": {
      "text/plain": [
       "array([[-0.42866713, -0.56630692, -0.7039467 ],\n",
       "       [ 0.80596391,  0.11238241, -0.58119908],\n",
       "       [ 0.40824829, -0.81649658,  0.40824829]])"
      ]
     },
     "execution_count": 180,
     "metadata": {},
     "output_type": "execute_result"
    }
   ],
   "source": [
    "Vh"
   ]
  },
  {
   "cell_type": "code",
   "execution_count": 181,
   "metadata": {
    "collapsed": false
   },
   "outputs": [
    {
     "data": {
      "text/plain": [
       "array([[ 9.508032  ,  0.        ,  0.        ],\n",
       "       [ 0.        ,  0.77286964,  0.        ]])"
      ]
     },
     "execution_count": 181,
     "metadata": {},
     "output_type": "execute_result"
    }
   ],
   "source": [
    "Sig = linalg.diagsvd(s,M,N)\n",
    "Sig"
   ]
  },
  {
   "cell_type": "code",
   "execution_count": 182,
   "metadata": {
    "collapsed": false
   },
   "outputs": [
    {
     "data": {
      "text/plain": [
       "array([[ 1.,  2.,  3.],\n",
       "       [ 4.,  5.,  6.]])"
      ]
     },
     "execution_count": 182,
     "metadata": {},
     "output_type": "execute_result"
    }
   ],
   "source": [
    "U.dot(Sig.dot(Vh)) #check computation"
   ]
  },
  {
   "cell_type": "markdown",
   "metadata": {},
   "source": [
    "### LU decomposition\n",
    "\n",
    "The LU decomposition finds a representation for the M×N matrix A as\n",
    ">$\\mathbf{A}=\\mathbf{P}\\,\\mathbf{L}\\,\\mathbf{U}$\n",
    "\n",
    "where $P$ is an M×M permutation matrix (a permutation of the rows of the identity matrix), L is in M×K lower triangular or trapezoidal matrix ($K=\\min\\left(M,N\\right)$) with unit-diagonal, and U is an upper triangular or trapezoidal matrix. The SciPy command for this decomposition is ***linalg.lu*** .\n",
    "\n",
    "Such a decomposition is often useful for solving many simultaneous equations where the left-hand-side does not change but the right hand side does. For example, suppose we are going to solve\n",
    ">$\\mathbf{A}\\mathbf{x}_{i}=\\mathbf{b}_{i}$\n",
    "\n",
    "for many different $b_i$ . The LU decomposition allows this to be written as\n",
    ">$\\mathbf{PLUx}_{i}=\\mathbf{b}_{i}.$\n",
    "\n",
    "Because L is lower-triangular, the equation can be solved for Uxi and finally xi very rapidly using forward- and back-substitution. An initial time spent factoring A allows for very rapid solution of similar systems of equations in the future. If the intent for performing LU decomposition is for solving linear systems then the command ***linalg.lu_factor*** should be used followed by repeated applications of the command ***linalg.lu_solve*** to solve the system for each new right-hand-side.\n",
    "\n",
    "\n",
    "### Cholesky decomposition\n",
    "\n",
    "Cholesky decomposition is a special case of LU decomposition applicable to Hermitian positive definite matrices. When $\\mathbf{A}=\\mathbf{A}^{H}$ and $\\mathbf{x}^{H}\\mathbf{Ax}\\geq0$ for all x , then decompositions of A can be found so that\n",
    ">$\\begin{eqnarray*} \\mathbf{A} & = & \\mathbf{U}^{H}\\mathbf{U}\\\\ \\mathbf{A} & = & \\mathbf{L}\\mathbf{L}^{H}\\end{eqnarray*}$\n",
    "\n",
    "where L is lower-triangular and UU is upper triangular. Notice that $\\mathbf{L}=\\mathbf{U}^{H}.$. The command ***linalg.cholesky*** computes the cholesky factorization. For using cholesky factorization to solve systems of equations there are also ***linalg.cho_factor*** and ***linalg.cho_solve*** routines that work similarly to their LU decomposition counterparts.\n",
    "\n",
    "\n",
    "### QR decomposition\n",
    "\n",
    "The QR decomposition (sometimes called a ***polar decomposition***) works for any M×N array and finds an M×M unitary matrix Q and an M×N upper-trapezoidal matrix RR such that\n",
    ">$\\mathbf{A=QR}.$\n",
    "\n",
    "Notice that if the SVD of A is known then the QR decomposition can be found\n",
    ">$\\mathbf{A}=\\mathbf{U}\\boldsymbol{\\Sigma}\\mathbf{V}^{H}=\\mathbf{QR}$\n",
    "\n",
    "implies that $\\mathbf{Q}=\\mathbf{U}$ and $\\mathbf{R}=\\boldsymbol{\\Sigma}\\mathbf{V}^{H}.$. Note, however, that in SciPy independent algorithms are used to find QR and SVD decompositions. The command for QR decomposition is ***linalg.qr*** .\n",
    "\n",
    "\n",
    "### Schur decomposition\n",
    "\n",
    "For a square N×N matrix, A , the Schur decomposition finds (not-necessarily unique) matrices T and Z such that\n",
    ">$\\mathbf{A}=\\mathbf{ZT}\\mathbf{Z}^{H}$\n",
    "\n",
    "where Z is a unitary matrix and T is either upper-triangular or quasi-upper triangular depending on whether or not a real schur form or complex schur form is requested. For a real schur form both T and Z are real-valued when A is real-valued. When A is a real-valued matrix the real schur form is only quasi-upper triangular because 2×2 blocks extrude from the main diagonal corresponding to any complex- valued eigenvalues. The command linalg.schur finds the Schur decomposition while the command linalg.rsf2csf converts T and Z from a real Schur form to a complex Schur form. The Schur form is especially useful in calculating functions of matrices.\n",
    "\n",
    "The following example illustrates the schur decomposition:"
   ]
  },
  {
   "cell_type": "code",
   "execution_count": 183,
   "metadata": {
    "collapsed": false
   },
   "outputs": [
    {
     "data": {
      "text/plain": [
       "matrix([[1, 3, 2],\n",
       "        [1, 4, 5],\n",
       "        [2, 3, 6]])"
      ]
     },
     "execution_count": 183,
     "metadata": {},
     "output_type": "execute_result"
    }
   ],
   "source": [
    "from scipy import linalg\n",
    "\n",
    "A = np.mat('[1 3 2; 1 4 5; 2 3 6]')\n",
    "A"
   ]
  },
  {
   "cell_type": "code",
   "execution_count": 184,
   "metadata": {
    "collapsed": false
   },
   "outputs": [
    {
     "data": {
      "text/plain": [
       "(array([[ 9.90012467,  1.78947961, -0.65498528],\n",
       "        [ 0.        ,  0.54993766, -1.57754789],\n",
       "        [ 0.        ,  0.51260928,  0.54993766]]),\n",
       " array([[ 0.36702395, -0.85002495, -0.37782404],\n",
       "        [ 0.63681656, -0.06646488,  0.76814522],\n",
       "        [ 0.67805463,  0.52253231, -0.51691576]]))"
      ]
     },
     "execution_count": 184,
     "metadata": {},
     "output_type": "execute_result"
    }
   ],
   "source": [
    "T, Z = linalg.schur(A)\n",
    "T, Z"
   ]
  },
  {
   "cell_type": "code",
   "execution_count": 185,
   "metadata": {
    "collapsed": false
   },
   "outputs": [
    {
     "data": {
      "text/plain": [
       "(array([[ 9.90012467 +4.44089210e-16j,  1.58629653 -7.59468606e-02j,\n",
       "         -0.24901757 +1.02329305e+00j],\n",
       "        [ 0.00000000 +0.00000000e+00j,  0.54993766 +8.99258408e-01j,\n",
       "          0.51778761 +9.30585972e-01j],\n",
       "        [ 0.00000000 +0.00000000e+00j,  0.00000000 +0.00000000e+00j,\n",
       "          0.54993766 -8.99258408e-01j]]),\n",
       " array([[-0.36066189-0.06804102j,  0.72427090-0.23617942j,\n",
       "         -0.53176194-0.04662187j],\n",
       "        [-0.62577787-0.11805674j,  0.08310692+0.37568066j,\n",
       "          0.33519530+0.57798448j],\n",
       "        [-0.66630111-0.12570169j, -0.47009285-0.22499096j,\n",
       "         -0.02697209-0.51759656j]]))"
      ]
     },
     "execution_count": 185,
     "metadata": {},
     "output_type": "execute_result"
    }
   ],
   "source": [
    "T1, Z1 = linalg.schur(A, 'complex')\n",
    "T1, Z1"
   ]
  },
  {
   "cell_type": "code",
   "execution_count": 186,
   "metadata": {
    "collapsed": false
   },
   "outputs": [
    {
     "data": {
      "text/plain": [
       "(array([[ 9.90012467 +0.00000000e+00j, -0.32436598 +1.55463542e+00j,\n",
       "         -0.88619748 +5.69027615e-01j],\n",
       "        [ 0.00000000 +0.00000000e+00j,  0.54993766 +8.99258408e-01j,\n",
       "          1.06493862 +3.05311332e-16j],\n",
       "        [ 0.00000000 +0.00000000e+00j,  0.00000000 +0.00000000e+00j,\n",
       "          0.54993766 -8.99258408e-01j]]),\n",
       " array([[ 0.36702395+0.j        , -0.18710843-0.73847105j,\n",
       "          0.42095476+0.32823992j],\n",
       "        [ 0.63681656+0.j        ,  0.38040577-0.05774229j,\n",
       "          0.03291516-0.6673369j ],\n",
       "        [ 0.67805463+0.j        , -0.25599031+0.45395724j,\n",
       "         -0.25877178+0.44907779j]]))"
      ]
     },
     "execution_count": 186,
     "metadata": {},
     "output_type": "execute_result"
    }
   ],
   "source": [
    "T2, Z2 = linalg.rsf2csf(T, Z)\n",
    "T2, Z2"
   ]
  },
  {
   "cell_type": "code",
   "execution_count": 187,
   "metadata": {
    "collapsed": false
   },
   "outputs": [
    {
     "data": {
      "text/plain": [
       "array([[  3.58036167e-15,   2.51185784e+00,   7.82531358e-01],\n",
       "       [  0.00000000e+00,   4.96506831e-16,   1.07952048e+00],\n",
       "       [  0.00000000e+00,   0.00000000e+00,   3.51083347e-16]])"
      ]
     },
     "execution_count": 187,
     "metadata": {},
     "output_type": "execute_result"
    }
   ],
   "source": [
    "abs(T1 - T2) # different"
   ]
  },
  {
   "cell_type": "code",
   "execution_count": 188,
   "metadata": {
    "collapsed": false
   },
   "outputs": [
    {
     "data": {
      "text/plain": [
       "array([[ 0.73085996,  1.04062922,  1.02381174],\n",
       "       [ 1.26810177,  0.52558735,  1.28148298],\n",
       "       [ 1.35021971,  0.71190629,  0.99407767]])"
      ]
     },
     "execution_count": 188,
     "metadata": {},
     "output_type": "execute_result"
    }
   ],
   "source": [
    "abs(Z1 - Z2) # different"
   ]
  },
  {
   "cell_type": "code",
   "execution_count": 189,
   "metadata": {
    "collapsed": false
   },
   "outputs": [
    {
     "data": {
      "text/plain": [
       "matrix([[  1.77635684e-15,   3.55271368e-15,   4.88498131e-15],\n",
       "        [  2.22044605e-15,   3.55271368e-15,   6.21724894e-15],\n",
       "        [  2.66453526e-15,   3.10862447e-15,   7.99360578e-15]])"
      ]
     },
     "execution_count": 189,
     "metadata": {},
     "output_type": "execute_result"
    }
   ],
   "source": [
    "T, Z, T1, Z1, T2, Z2 = map(np.mat,(T,Z,T1,Z1,T2,Z2))\n",
    "abs(A - Z*T*Z.H)  # same"
   ]
  },
  {
   "cell_type": "code",
   "execution_count": 190,
   "metadata": {
    "collapsed": false
   },
   "outputs": [
    {
     "data": {
      "text/plain": [
       "matrix([[  6.66133815e-16,   4.89387476e-15,   2.70599070e-15],\n",
       "        [  1.96183037e-15,   1.15548565e-14,   1.59875970e-14],\n",
       "        [  2.35252041e-15,   1.15511223e-14,   1.77639153e-14]])"
      ]
     },
     "execution_count": 190,
     "metadata": {},
     "output_type": "execute_result"
    }
   ],
   "source": [
    "abs(A - Z1*T1*Z1.H)  # same"
   ]
  },
  {
   "cell_type": "code",
   "execution_count": 191,
   "metadata": {
    "collapsed": false
   },
   "outputs": [
    {
     "data": {
      "text/plain": [
       "matrix([[  1.77982290e-15,   3.99682698e-15,   4.44097883e-15],\n",
       "        [  1.77722399e-15,   3.55444798e-15,   6.22121276e-15],\n",
       "        [  2.22044605e-15,   2.66453526e-15,   8.88178420e-15]])"
      ]
     },
     "execution_count": 191,
     "metadata": {},
     "output_type": "execute_result"
    }
   ],
   "source": [
    "abs(A - Z2*T2*Z2.H)  # same"
   ]
  },
  {
   "cell_type": "markdown",
   "metadata": {},
   "source": [
    "### Interpolative Decomposition\n",
    "\n",
    "scipy.linalg.interpolative contains routines for computing the interpolative decomposition (ID) of a matrix. For a matrix $A\n",
    "\\in \\mathbb{C}^{m \\times n}$ of rank $k \\leq \\min \\{ m, n \\}$ this is a factorization\n",
    ">$\\begin{split}A \\Pi =\n",
    "\\begin{bmatrix}\n",
    " A \\Pi_{1} & A \\Pi_{2}\n",
    "\\end{bmatrix} =\n",
    "A \\Pi_{1}\n",
    "\\begin{bmatrix}\n",
    " I & T\n",
    "\\end{bmatrix},\\end{split}$\n",
    "\n",
    "where $\\Pi = [\\Pi_{1}, \\Pi_{2}]$ is a permutation matrix with $\\Pi_{1} \\in \\{ 0, 1 \\}^{n \\times k}$, i.e., $A \\Pi_{2} =\n",
    "A \\Pi_{1} T$. This can equivalently be written as A=BP, where B=AΠ1 and P=[I,T]Π𝖳  are the ***skeleton*** and ***interpolation matrices***, respectively.\n",
    "\n",
    "See also\n",
    "scipy.linalg.interpolative — for more information.\n",
    "\n",
    "## Matrix Functions\n",
    "Consider the function f(x)f(x) with Taylor series expansion\n",
    ">$f\\left(x\\right)=\\sum_{k=0}^{\\infty}\\frac{f^{\\left(k\\right)}\\left(0\\right)}{k!}x^{k}.$\n",
    "\n",
    "A matrix function can be defined using this Taylor series for the square matrix AA as\n",
    ">$f\\left(\\mathbf{A}\\right)=\\sum_{k=0}^{\\infty}\\frac{f^{\\left(k\\right)}\\left(0\\right)}{k!}\\mathbf{A}^{k}.$\n",
    "\n",
    "While, this serves as a useful representation of a matrix function, it is rarely the best way to calculate a matrix function.\n",
    "\n",
    "\n",
    "### Exponential and logarithm functions\n",
    "\n",
    "The matrix exponential is one of the more common matrix functions. It can be defined for square matrices as\n",
    ">$e^{\\mathbf{A}}=\\sum_{k=0}^{\\infty}\\frac{1}{k!}\\mathbf{A}^{k}.$\n",
    "\n",
    "The command linalg.expm3 uses this Taylor series definition to compute the matrix exponential. Due to poor convergence properties it is not often used.\n",
    "\n",
    "Another method to compute the matrix exponential is to find an eigenvalue decomposition of A :\n",
    ">$\\mathbf{A}=\\mathbf{V}\\boldsymbol{\\Lambda}\\mathbf{V}^{-1}$\n",
    "\n",
    "and note that\n",
    ">$e^{\\mathbf{A}}=\\mathbf{V}e^{\\boldsymbol{\\Lambda}}\\mathbf{V}^{-1}$\n",
    "\n",
    "where the matrix exponential of the diagonal matrix $Λ$ is just the exponential of its elements. This method is implemented in ***linalg.expm2*** .\n",
    "\n",
    "The preferred method for implementing the matrix exponential is to use scaling and a Padé approximation for $e^x$ . This algorithm is implemented as ***linalg.expm*** .\n",
    "\n",
    "The inverse of the matrix exponential is the matrix logarithm defined as the inverse of the matrix exponential.\n",
    ">$\\mathbf{A}\\equiv\\exp\\left(\\log\\left(\\mathbf{A}\\right)\\right).$\n",
    "\n",
    "The matrix logarithm can be obtained with linalg.logm .\n",
    "\n",
    "\n",
    "### Trigonometric functions\n",
    "\n",
    "The trigonometric functions sinsin , coscos , and tantan are implemented for matrices in ***linalg.sinm***, ***linalg.cosm***, and ***linalg.tanm*** respectively. The matrix sin and cosine can be defined using Euler’s identity as\n",
    ">$\\begin{eqnarray*} \\sin\\left(\\mathbf{A}\\right) & = & \\frac{e^{j\\mathbf{A}}-e^{-j\\mathbf{A}}}{2j}\\\\ \\cos\\left(\\mathbf{A}\\right) & = & \\frac{e^{j\\mathbf{A}}+e^{-j\\mathbf{A}}}{2}.\\end{eqnarray*}$\n",
    "\n",
    "The tangent is\n",
    ">$\\tan\\left(x\\right)=\\frac{\\sin\\left(x\\right)}{\\cos\\left(x\\right)}=\\left[\\cos\\left(x\\right)\\right]^{-1}\\sin\\left(x\\right)$\n",
    "\n",
    "and so the matrix tangent is defined as\n",
    ">$\\left[\\cos\\left(\\mathbf{A}\\right)\\right]^{-1}\\sin\\left(\\mathbf{A}\\right).$\n",
    "\n",
    "\n",
    "### Hyperbolic trigonometric functions\n",
    "\n",
    "The hyperbolic trigonometric functions sinh , cosh , and tanh can also be defined for matrices using the familiar definitions:\n",
    ">$\\begin{eqnarray*} \\sinh\\left(\\mathbf{A}\\right) & = & \\frac{e^{\\mathbf{A}}-e^{-\\mathbf{A}}}{2}\\\\ \\cosh\\left(\\mathbf{A}\\right) & = & \\frac{e^{\\mathbf{A}}+e^{-\\mathbf{A}}}{2}\\\\ \\tanh\\left(\\mathbf{A}\\right) & = & \\left[\\cosh\\left(\\mathbf{A}\\right)\\right]^{-1}\\sinh\\left(\\mathbf{A}\\right).\\end{eqnarray*}$\n",
    "\n",
    "These matrix functions can be found using ***linalg.sinhm, linalg.coshm*** , and ***linalg.tanhm***.\n",
    "\n",
    "\n",
    "### Arbitrary function\n",
    "\n",
    "Finally, any arbitrary function that takes one complex number and returns a complex number can be called as a matrix function using the command ***linalg.funm***. This command takes the matrix and an arbitrary Python function. It then implements an algorithm from Golub and Van Loan’s book “Matrix Computations” to compute the function applied to the matrix using a Schur decomposition. Note that the function needs to accept complex numbers as input in order to work with this algorithm. For example the following code computes the zeroth-order Bessel function applied to a matrix."
   ]
  },
  {
   "cell_type": "code",
   "execution_count": 192,
   "metadata": {
    "collapsed": false
   },
   "outputs": [
    {
     "data": {
      "text/plain": [
       "array([[ 0.19151945,  0.62210877,  0.43772774],\n",
       "       [ 0.78535858,  0.77997581,  0.27259261],\n",
       "       [ 0.27646426,  0.80187218,  0.95813935]])"
      ]
     },
     "execution_count": 192,
     "metadata": {},
     "output_type": "execute_result"
    }
   ],
   "source": [
    "from scipy import special, random, linalg\n",
    "np.random.seed(1234)\n",
    "A = random.rand(3, 3)\n",
    "A"
   ]
  },
  {
   "cell_type": "code",
   "execution_count": 193,
   "metadata": {
    "collapsed": false
   },
   "outputs": [
    {
     "data": {
      "text/plain": [
       "array([[ 0.86511146, -0.19676526, -0.13856748],\n",
       "       [-0.17479869,  0.7259118 , -0.16606258],\n",
       "       [-0.19212044, -0.32052767,  0.73590704]])"
      ]
     },
     "execution_count": 193,
     "metadata": {},
     "output_type": "execute_result"
    }
   ],
   "source": [
    "B = linalg.funm(A, lambda x: special.jv(0, x))\n",
    "B"
   ]
  },
  {
   "cell_type": "code",
   "execution_count": 194,
   "metadata": {
    "collapsed": false
   },
   "outputs": [
    {
     "data": {
      "text/plain": [
       "array([ 1.73881510+0.j, -0.20270676+0.j,  0.39352627+0.j])"
      ]
     },
     "execution_count": 194,
     "metadata": {},
     "output_type": "execute_result"
    }
   ],
   "source": [
    "linalg.eigvals(A)"
   ]
  },
  {
   "cell_type": "code",
   "execution_count": 195,
   "metadata": {
    "collapsed": false
   },
   "outputs": [
    {
     "data": {
      "text/plain": [
       "array([ 0.37551908+0.j,  0.98975384+0.j,  0.96165739+0.j])"
      ]
     },
     "execution_count": 195,
     "metadata": {},
     "output_type": "execute_result"
    }
   ],
   "source": [
    "special.jv(0, linalg.eigvals(A))"
   ]
  },
  {
   "cell_type": "code",
   "execution_count": 196,
   "metadata": {
    "collapsed": false
   },
   "outputs": [
    {
     "data": {
      "text/plain": [
       "array([ 0.37551908+0.j,  0.98975384+0.j,  0.96165739+0.j])"
      ]
     },
     "execution_count": 196,
     "metadata": {},
     "output_type": "execute_result"
    }
   ],
   "source": [
    "linalg.eigvals(B)"
   ]
  },
  {
   "cell_type": "markdown",
   "metadata": {},
   "source": [
    "Note how, by virtue of how matrix analytic functions are defined, the Bessel function has acted on the matrix eigenvalues.\n",
    "\n",
    "## Special matrices\n",
    "SciPy and NumPy provide several functions for creating special matrices that are frequently used in engineering and science.\n",
    "```\n",
    "Type\tFunction\tDescription\n",
    "block diagonal\tscipy.linalg.block_diag\tCreate a block diagonal matrix from the provided arrays.\n",
    "circulant\tscipy.linalg.circulant\tConstruct a circulant matrix.\n",
    "companion\tscipy.linalg.companion\tCreate a companion matrix.\n",
    "Hadamard\tscipy.linalg.hadamard\tConstruct a Hadamard matrix.\n",
    "Hankel\tscipy.linalg.hankel\tConstruct a Hankel matrix.\n",
    "Hilbert\tscipy.linalg.hilbert\tConstruct a Hilbert matrix.\n",
    "Inverse Hilbert\tscipy.linalg.invhilbert\tConstruct the inverse of a Hilbert matrix.\n",
    "Leslie\tscipy.linalg.leslie\tCreate a Leslie matrix.\n",
    "Pascal\tscipy.linalg.pascal\tCreate a Pascal matrix.\n",
    "Toeplitz\tscipy.linalg.toeplitz\tConstruct a Toeplitz matrix.\n",
    "Van der Monde\tnumpy.vander\tGenerate a Van der Monde matrix.\n",
    "```\n",
    "For examples of the use of these functions, see their respective docstrings."
   ]
  }
 ],
 "metadata": {
  "kernelspec": {
   "display_name": "Python 3",
   "language": "python",
   "name": "python3"
  },
  "language_info": {
   "codemirror_mode": {
    "name": "ipython",
    "version": 3
   },
   "file_extension": ".py",
   "mimetype": "text/x-python",
   "name": "python",
   "nbconvert_exporter": "python",
   "pygments_lexer": "ipython3",
   "version": "3.6.0"
  }
 },
 "nbformat": 4,
 "nbformat_minor": 2
}
